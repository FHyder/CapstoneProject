{
 "cells": [
  {
   "cell_type": "code",
   "execution_count": 1,
   "metadata": {},
   "outputs": [],
   "source": [
    "import pandas as pd\n",
    "from datetime import datetime as dt\n",
    "import matplotlib.pyplot as plt\n",
    "from darksky import forecast\n",
    "import config\n",
    "import numpy as np\n",
    "import xgboost as xgb\n",
    "import world_bank_data as wb\n",
    "from pandas.plotting import lag_plot\n",
    "from statsmodels.tsa.ar_model import AR\n",
    "from sklearn.model_selection import train_test_split\n",
    "from sklearn.tree import DecisionTreeRegressor\n",
    "from sklearn.metrics import r2_score, mean_squared_error\n",
    "from sklearn.model_selection import GridSearchCV\n",
    "from sklearn.ensemble import RandomForestRegressor\n",
    "key = config.api__key\n",
    "np.random.seed(0)"
   ]
  },
  {
   "cell_type": "markdown",
   "metadata": {},
   "source": [
    "## Load the dataset and take a quick look at it. "
   ]
  },
  {
   "cell_type": "code",
   "execution_count": 2,
   "metadata": {},
   "outputs": [],
   "source": [
    "df = pd.read_csv('MY.38362002.csv')"
   ]
  },
  {
   "cell_type": "code",
   "execution_count": 3,
   "metadata": {},
   "outputs": [
    {
     "name": "stdout",
     "output_type": "stream",
     "text": [
      "<class 'pandas.core.frame.DataFrame'>\n",
      "RangeIndex: 2034 entries, 0 to 2033\n",
      "Data columns (total 20 columns):\n",
      "ConditionName                  2034 non-null object\n",
      "ConditionSNOMED                2034 non-null int64\n",
      "PathogenName                   2034 non-null object\n",
      "PathogenTaxonID                2034 non-null int64\n",
      "Fatalities                     2034 non-null int64\n",
      "CountryName                    2034 non-null object\n",
      "CountryISO                     2034 non-null object\n",
      "Admin1Name                     1944 non-null object\n",
      "Admin1ISO                      1944 non-null object\n",
      "Admin2Name                     0 non-null float64\n",
      "CityName                       0 non-null float64\n",
      "PeriodStartDate                2034 non-null object\n",
      "PeriodEndDate                  2034 non-null object\n",
      "PartOfCumulativeCountSeries    2034 non-null int64\n",
      "AgeRange                       2034 non-null object\n",
      "Subpopulation                  2034 non-null object\n",
      "PlaceOfAcquisition             0 non-null float64\n",
      "DiagnosisCertainty             0 non-null float64\n",
      "SourceName                     2034 non-null object\n",
      "CountValue                     2034 non-null int64\n",
      "dtypes: float64(4), int64(5), object(11)\n",
      "memory usage: 317.9+ KB\n"
     ]
    }
   ],
   "source": [
    "df.info()\n",
    "df.drop(['ConditionName','ConditionSNOMED','PathogenName', 'PathogenTaxonID','CountryName','CountryISO', 'Admin1ISO','Admin2Name', 'CityName','PlaceOfAcquisition','DiagnosisCertainty','SourceName'], axis = 1, inplace = True)\n",
    "\n",
    "\n"
   ]
  },
  {
   "cell_type": "markdown",
   "metadata": {},
   "source": [
    "## The following is a description of each ot hte features accord to https://www.tycho.pitt.edu/dataformat/ProjectTychoPreCompiledDataFormat.pdf\n",
    "\n",
    "I immediatley dropped any features with 0 observations: DiagnosisCertainty, PlaceOfAcquistion, CityName, Admin2Name\n",
    "I also dropped features that are reduntant. This dataset presents information on Dengue Fever in Malaysia, I'd say it's safe to drop ConditionName, ConditionSNOMED, PathogenName, PathogenName, PathogenTaxonID, and CountryName. Admin1ISO was also dropped as it is just reporting the ISO 3166 code for the Admin1 feature"
   ]
  },
  {
   "cell_type": "code",
   "execution_count": 4,
   "metadata": {},
   "outputs": [
    {
     "name": "stdout",
     "output_type": "stream",
     "text": [
      "<class 'pandas.core.frame.DataFrame'>\n",
      "RangeIndex: 2034 entries, 0 to 2033\n",
      "Data columns (total 8 columns):\n",
      "Fatalities                     2034 non-null int64\n",
      "Admin1Name                     1944 non-null object\n",
      "PeriodStartDate                2034 non-null object\n",
      "PeriodEndDate                  2034 non-null object\n",
      "PartOfCumulativeCountSeries    2034 non-null int64\n",
      "AgeRange                       2034 non-null object\n",
      "Subpopulation                  2034 non-null object\n",
      "CountValue                     2034 non-null int64\n",
      "dtypes: int64(3), object(5)\n",
      "memory usage: 127.2+ KB\n"
     ]
    }
   ],
   "source": [
    "df.info()"
   ]
  },
  {
   "cell_type": "code",
   "execution_count": 5,
   "metadata": {},
   "outputs": [],
   "source": [
    "df = df.dropna()"
   ]
  },
  {
   "cell_type": "code",
   "execution_count": 6,
   "metadata": {},
   "outputs": [
    {
     "name": "stdout",
     "output_type": "stream",
     "text": [
      "<class 'pandas.core.frame.DataFrame'>\n",
      "Int64Index: 1944 entries, 0 to 1943\n",
      "Data columns (total 8 columns):\n",
      "Fatalities                     1944 non-null int64\n",
      "Admin1Name                     1944 non-null object\n",
      "PeriodStartDate                1944 non-null object\n",
      "PeriodEndDate                  1944 non-null object\n",
      "PartOfCumulativeCountSeries    1944 non-null int64\n",
      "AgeRange                       1944 non-null object\n",
      "Subpopulation                  1944 non-null object\n",
      "CountValue                     1944 non-null int64\n",
      "dtypes: int64(3), object(5)\n",
      "memory usage: 136.7+ KB\n"
     ]
    }
   ],
   "source": [
    "df.info()"
   ]
  },
  {
   "cell_type": "code",
   "execution_count": 7,
   "metadata": {},
   "outputs": [
    {
     "data": {
      "text/plain": [
       "0    1944\n",
       "Name: Fatalities, dtype: int64"
      ]
     },
     "execution_count": 7,
     "metadata": {},
     "output_type": "execute_result"
    }
   ],
   "source": [
    "df.Fatalities.value_counts()"
   ]
  },
  {
   "cell_type": "code",
   "execution_count": 8,
   "metadata": {},
   "outputs": [],
   "source": [
    "df.drop('Fatalities', inplace = True, axis = 1)"
   ]
  },
  {
   "cell_type": "code",
   "execution_count": 9,
   "metadata": {},
   "outputs": [
    {
     "data": {
      "text/plain": [
       "array(['None specified'], dtype=object)"
      ]
     },
     "execution_count": 9,
     "metadata": {},
     "output_type": "execute_result"
    }
   ],
   "source": [
    "df.Subpopulation.unique()"
   ]
  },
  {
   "cell_type": "code",
   "execution_count": 10,
   "metadata": {},
   "outputs": [],
   "source": [
    "df.drop('Subpopulation', inplace = True, axis = 1)"
   ]
  },
  {
   "cell_type": "code",
   "execution_count": 11,
   "metadata": {},
   "outputs": [
    {
     "data": {
      "text/plain": [
       "(array([0]), array(['0-130'], dtype=object))"
      ]
     },
     "execution_count": 11,
     "metadata": {},
     "output_type": "execute_result"
    }
   ],
   "source": [
    "df.PartOfCumulativeCountSeries.unique(), df.AgeRange.unique()"
   ]
  },
  {
   "cell_type": "code",
   "execution_count": 12,
   "metadata": {},
   "outputs": [],
   "source": [
    "df.drop(['PartOfCumulativeCountSeries', 'AgeRange'], axis = 1, inplace = True)"
   ]
  },
  {
   "cell_type": "code",
   "execution_count": 13,
   "metadata": {},
   "outputs": [
    {
     "data": {
      "text/plain": [
       "JOHOR              216\n",
       "NEGERI SEMBILAN    216\n",
       "PAHANG             216\n",
       "PERLIS             216\n",
       "PULAU PINANG       204\n",
       "KELANTAN           204\n",
       "SELANGOR           192\n",
       "PERAK              192\n",
       "SABAH              144\n",
       "SARAWAK            144\n",
       "Name: Admin1Name, dtype: int64"
      ]
     },
     "execution_count": 13,
     "metadata": {},
     "output_type": "execute_result"
    }
   ],
   "source": [
    "df.Admin1Name.value_counts()"
   ]
  },
  {
   "cell_type": "code",
   "execution_count": 14,
   "metadata": {},
   "outputs": [
    {
     "data": {
      "text/plain": [
       "1944"
      ]
     },
     "execution_count": 14,
     "metadata": {},
     "output_type": "execute_result"
    }
   ],
   "source": [
    "sum(df.Admin1Name.value_counts().values)"
   ]
  },
  {
   "cell_type": "code",
   "execution_count": 15,
   "metadata": {},
   "outputs": [],
   "source": [
    "df.rename(columns={'Admin1Name':'City'}, inplace = True)"
   ]
  },
  {
   "cell_type": "code",
   "execution_count": 16,
   "metadata": {},
   "outputs": [
    {
     "data": {
      "text/html": [
       "<div>\n",
       "<style scoped>\n",
       "    .dataframe tbody tr th:only-of-type {\n",
       "        vertical-align: middle;\n",
       "    }\n",
       "\n",
       "    .dataframe tbody tr th {\n",
       "        vertical-align: top;\n",
       "    }\n",
       "\n",
       "    .dataframe thead th {\n",
       "        text-align: right;\n",
       "    }\n",
       "</style>\n",
       "<table border=\"1\" class=\"dataframe\">\n",
       "  <thead>\n",
       "    <tr style=\"text-align: right;\">\n",
       "      <th></th>\n",
       "      <th>City</th>\n",
       "      <th>PeriodStartDate</th>\n",
       "      <th>PeriodEndDate</th>\n",
       "      <th>CountValue</th>\n",
       "    </tr>\n",
       "  </thead>\n",
       "  <tbody>\n",
       "    <tr>\n",
       "      <th>0</th>\n",
       "      <td>JOHOR</td>\n",
       "      <td>1993-01-01</td>\n",
       "      <td>1993-01-31</td>\n",
       "      <td>41</td>\n",
       "    </tr>\n",
       "    <tr>\n",
       "      <th>1</th>\n",
       "      <td>JOHOR</td>\n",
       "      <td>1993-02-01</td>\n",
       "      <td>1993-02-28</td>\n",
       "      <td>52</td>\n",
       "    </tr>\n",
       "    <tr>\n",
       "      <th>2</th>\n",
       "      <td>JOHOR</td>\n",
       "      <td>1993-03-01</td>\n",
       "      <td>1993-03-31</td>\n",
       "      <td>35</td>\n",
       "    </tr>\n",
       "    <tr>\n",
       "      <th>3</th>\n",
       "      <td>JOHOR</td>\n",
       "      <td>1993-04-01</td>\n",
       "      <td>1993-04-30</td>\n",
       "      <td>45</td>\n",
       "    </tr>\n",
       "    <tr>\n",
       "      <th>4</th>\n",
       "      <td>JOHOR</td>\n",
       "      <td>1993-05-01</td>\n",
       "      <td>1993-05-31</td>\n",
       "      <td>55</td>\n",
       "    </tr>\n",
       "  </tbody>\n",
       "</table>\n",
       "</div>"
      ],
      "text/plain": [
       "    City PeriodStartDate PeriodEndDate  CountValue\n",
       "0  JOHOR      1993-01-01    1993-01-31          41\n",
       "1  JOHOR      1993-02-01    1993-02-28          52\n",
       "2  JOHOR      1993-03-01    1993-03-31          35\n",
       "3  JOHOR      1993-04-01    1993-04-30          45\n",
       "4  JOHOR      1993-05-01    1993-05-31          55"
      ]
     },
     "execution_count": 16,
     "metadata": {},
     "output_type": "execute_result"
    }
   ],
   "source": [
    "df.head()"
   ]
  },
  {
   "cell_type": "code",
   "execution_count": 17,
   "metadata": {},
   "outputs": [],
   "source": [
    "df[\"PeriodStartDate\"]= pd.to_datetime(df[\"PeriodStartDate\"]) \n",
    "df[\"PeriodEndDate\"]= pd.to_datetime(df[\"PeriodEndDate\"]) "
   ]
  },
  {
   "cell_type": "code",
   "execution_count": 18,
   "metadata": {},
   "outputs": [
    {
     "name": "stdout",
     "output_type": "stream",
     "text": [
      "<class 'pandas.core.frame.DataFrame'>\n",
      "Int64Index: 1944 entries, 0 to 1943\n",
      "Data columns (total 4 columns):\n",
      "City               1944 non-null object\n",
      "PeriodStartDate    1944 non-null datetime64[ns]\n",
      "PeriodEndDate      1944 non-null datetime64[ns]\n",
      "CountValue         1944 non-null int64\n",
      "dtypes: datetime64[ns](2), int64(1), object(1)\n",
      "memory usage: 75.9+ KB\n"
     ]
    }
   ],
   "source": [
    "df.info()"
   ]
  },
  {
   "cell_type": "code",
   "execution_count": 19,
   "metadata": {},
   "outputs": [],
   "source": [
    "dayStart = df.PeriodStartDate.dt.day\n",
    "dayEnd = df.PeriodEndDate.dt.day"
   ]
  },
  {
   "cell_type": "code",
   "execution_count": 20,
   "metadata": {},
   "outputs": [
    {
     "data": {
      "image/png": "[encoded data removed]",
      "text/plain": [
       "<Figure size 432x288 with 1 Axes>"
      ]
     },
     "metadata": {
      "needs_background": "light"
     },
     "output_type": "display_data"
    }
   ],
   "source": [
    "plt.plot(dayStart)\n",
    "plt.plot(dayEnd)\n",
    "plt.show()"
   ]
  },
  {
   "cell_type": "code",
   "execution_count": 21,
   "metadata": {},
   "outputs": [],
   "source": [
    "month = df.PeriodStartDate.dt.month\n",
    "year = df.PeriodStartDate.dt.year\n",
    "df.drop(['PeriodEndDate','PeriodStartDate'], axis = 1, inplace = True)\n",
    "df['month'] = month\n",
    "df['year'] = year"
   ]
  },
  {
   "cell_type": "code",
   "execution_count": 22,
   "metadata": {},
   "outputs": [
    {
     "name": "stdout",
     "output_type": "stream",
     "text": [
      "<class 'pandas.core.frame.DataFrame'>\n",
      "Int64Index: 1944 entries, 0 to 1943\n",
      "Data columns (total 4 columns):\n",
      "City          1944 non-null object\n",
      "CountValue    1944 non-null int64\n",
      "month         1944 non-null int64\n",
      "year          1944 non-null int64\n",
      "dtypes: int64(3), object(1)\n",
      "memory usage: 75.9+ KB\n"
     ]
    }
   ],
   "source": [
    "df.info()"
   ]
  },
  {
   "cell_type": "code",
   "execution_count": 23,
   "metadata": {},
   "outputs": [
    {
     "data": {
      "text/plain": [
       "array(['JOHOR', 'KELANTAN', 'NEGERI SEMBILAN', 'PAHANG', 'PERAK',\n",
       "       'PERLIS', 'PULAU PINANG', 'SABAH', 'SARAWAK', 'SELANGOR'],\n",
       "      dtype=object)"
      ]
     },
     "execution_count": 23,
     "metadata": {},
     "output_type": "execute_result"
    }
   ],
   "source": [
    "df.City.unique()"
   ]
  },
  {
   "cell_type": "code",
   "execution_count": 24,
   "metadata": {},
   "outputs": [],
   "source": [
    "Johor = key, 1.4854, 103.7618\n",
    "Kelantan = key, 6.1253, 102.2376\n",
    "NS = key, 2.7258, 101.9424\n",
    "Pahang = key, 3.8126, 103.3256\n",
    "Perak = key, 4.5921, 101.0901\n",
    "Perlis = key, 6.4449, 100.2048\n",
    "Pulau = key, 5.4164, 100.3327\n",
    "Sabah = key, 5.9788, 116.0753\n",
    "Sarawak = key, 1.5533, 110.3592\n",
    "Selangor = key, 3.0738, 101.5183\n"
   ]
  },
  {
   "cell_type": "code",
   "execution_count": 25,
   "metadata": {},
   "outputs": [],
   "source": [
    "fore = forecast(*Johor, time = dt(1993,1,1).isoformat())"
   ]
  },
  {
   "cell_type": "code",
   "execution_count": 26,
   "metadata": {},
   "outputs": [
    {
     "data": {
      "text/plain": [
       "{'data': [{'time': 725817600,\n",
       "   'summary': 'Humid throughout the day.',\n",
       "   'icon': 'partly-cloudy-day',\n",
       "   'sunriseTime': 725843313,\n",
       "   'sunsetTime': 725886645,\n",
       "   'moonPhase': 0.26,\n",
       "   'precipType': 'rain',\n",
       "   'temperatureHigh': 85.7,\n",
       "   'temperatureHighTime': 725871600,\n",
       "   'temperatureLow': 74.89,\n",
       "   'temperatureLowTime': 725918400,\n",
       "   'apparentTemperatureHigh': 93.04,\n",
       "   'apparentTemperatureHighTime': 725871600,\n",
       "   'apparentTemperatureLow': 76.55,\n",
       "   'apparentTemperatureLowTime': 725918400,\n",
       "   'dewPoint': 74.14,\n",
       "   'humidity': 0.87,\n",
       "   'pressure': 1013.77,\n",
       "   'windSpeed': 6.91,\n",
       "   'windBearing': 25,\n",
       "   'cloudCover': 0.83,\n",
       "   'uvIndex': 5,\n",
       "   'uvIndexTime': 725868000,\n",
       "   'temperatureMin': 74.89,\n",
       "   'temperatureMinTime': 725828400,\n",
       "   'temperatureMax': 85.7,\n",
       "   'temperatureMaxTime': 725871600,\n",
       "   'apparentTemperatureMin': 76.55,\n",
       "   'apparentTemperatureMinTime': 725832000,\n",
       "   'apparentTemperatureMax': 93.04,\n",
       "   'apparentTemperatureMaxTime': 725871600}]}"
      ]
     },
     "execution_count": 26,
     "metadata": {},
     "output_type": "execute_result"
    }
   ],
   "source": [
    "fore['daily']"
   ]
  },
  {
   "cell_type": "code",
   "execution_count": 27,
   "metadata": {},
   "outputs": [],
   "source": [
    "def getWeatherData (df, key, weather):\n",
    "    w = []\n",
    "    for i in df.index.tolist():\n",
    "        fore = forecast(*key, time = dt(df['year'][i],df['month'][i],1).isoformat())\n",
    "        try:\n",
    "            w.append(fore['daily']['data'][0][weather])\n",
    "        except KeyError:\n",
    "            w.append(np.nan)\n",
    "    return w\n",
    "    "
   ]
  },
  {
   "cell_type": "code",
   "execution_count": 28,
   "metadata": {},
   "outputs": [
    {
     "name": "stderr",
     "output_type": "stream",
     "text": [
      "/anaconda3/lib/python3.6/site-packages/ipykernel_launcher.py:5: SettingWithCopyWarning: \n",
      "A value is trying to be set on a copy of a slice from a DataFrame.\n",
      "Try using .loc[row_indexer,col_indexer] = value instead\n",
      "\n",
      "See the caveats in the documentation: http://pandas.pydata.org/pandas-docs/stable/indexing.html#indexing-view-versus-copy\n",
      "  \"\"\"\n"
     ]
    },
    {
     "name": "stdout",
     "output_type": "stream",
     "text": [
      "CPU times: user 26.1 s, sys: 1.74 s, total: 27.8 s\n",
      "Wall time: 4min 33s\n"
     ]
    }
   ],
   "source": [
    "%%time\n",
    "J = df[df.City == 'JOHOR']\n",
    "weatherConditions = ['cloudCover', 'windSpeed', 'humidity', 'temperatureMax']\n",
    "for i in weatherConditions:\n",
    "    wC = getWeatherData(J, Johor, i)\n",
    "    J[i] = wC"
   ]
  },
  {
   "cell_type": "code",
   "execution_count": 29,
   "metadata": {},
   "outputs": [
    {
     "name": "stderr",
     "output_type": "stream",
     "text": [
      "/anaconda3/lib/python3.6/site-packages/ipykernel_launcher.py:5: SettingWithCopyWarning: \n",
      "A value is trying to be set on a copy of a slice from a DataFrame.\n",
      "Try using .loc[row_indexer,col_indexer] = value instead\n",
      "\n",
      "See the caveats in the documentation: http://pandas.pydata.org/pandas-docs/stable/indexing.html#indexing-view-versus-copy\n",
      "  \"\"\"\n"
     ]
    },
    {
     "name": "stdout",
     "output_type": "stream",
     "text": [
      "CPU times: user 24.3 s, sys: 1.39 s, total: 25.7 s\n",
      "Wall time: 4min 8s\n"
     ]
    }
   ],
   "source": [
    "%%time\n",
    "Kel = df[df.City == 'KELANTAN']\n",
    "weatherConditions = ['cloudCover', 'windSpeed', 'humidity', 'temperatureMax']\n",
    "for i in weatherConditions:\n",
    "    wC = getWeatherData(Kel,Kelantan,i)\n",
    "    Kel[i] = wC"
   ]
  },
  {
   "cell_type": "code",
   "execution_count": 30,
   "metadata": {},
   "outputs": [
    {
     "name": "stderr",
     "output_type": "stream",
     "text": [
      "/anaconda3/lib/python3.6/site-packages/ipykernel_launcher.py:6: SettingWithCopyWarning: \n",
      "A value is trying to be set on a copy of a slice from a DataFrame.\n",
      "Try using .loc[row_indexer,col_indexer] = value instead\n",
      "\n",
      "See the caveats in the documentation: http://pandas.pydata.org/pandas-docs/stable/indexing.html#indexing-view-versus-copy\n",
      "  \n"
     ]
    },
    {
     "name": "stdout",
     "output_type": "stream",
     "text": [
      "CPU times: user 25.1 s, sys: 1.61 s, total: 26.7 s\n",
      "Wall time: 4min 9s\n"
     ]
    }
   ],
   "source": [
    "%%time\n",
    "N = df[df.City == 'NEGERI SEMBILAN']\n",
    "\n",
    "weatherConditions = ['cloudCover', 'windSpeed', 'humidity', 'temperatureMax']\n",
    "for i in weatherConditions:\n",
    "    wC = getWeatherData(N,NS,i)\n",
    "    N[i] = wC"
   ]
  },
  {
   "cell_type": "code",
   "execution_count": null,
   "metadata": {},
   "outputs": [
    {
     "name": "stderr",
     "output_type": "stream",
     "text": [
      "/anaconda3/lib/python3.6/site-packages/ipykernel_launcher.py:6: SettingWithCopyWarning: \n",
      "A value is trying to be set on a copy of a slice from a DataFrame.\n",
      "Try using .loc[row_indexer,col_indexer] = value instead\n",
      "\n",
      "See the caveats in the documentation: http://pandas.pydata.org/pandas-docs/stable/indexing.html#indexing-view-versus-copy\n",
      "  \n"
     ]
    },
    {
     "name": "stdout",
     "output_type": "stream",
     "text": [
      "CPU times: user 25.7 s, sys: 1.5 s, total: 27.2 s\n",
      "Wall time: 4min 20s\n"
     ]
    }
   ],
   "source": [
    "%%time\n",
    "Pah = df[df.City == 'PAHANG']\n",
    "\n",
    "weatherConditions = ['cloudCover', 'windSpeed', 'humidity', 'temperatureMax']\n",
    "for i in weatherConditions:\n",
    "    wC = getWeatherData(Pah,Pahang,i)\n",
    "    Pah[i] = wC"
   ]
  },
  {
   "cell_type": "code",
   "execution_count": null,
   "metadata": {},
   "outputs": [],
   "source": [
    "%%time\n",
    "Per = df[df.City == 'PERAK']\n",
    "\n",
    "weatherConditions = ['cloudCover', 'windSpeed', 'humidity', 'temperatureMax']\n",
    "for i in weatherConditions:\n",
    "    wC = getWeatherData(Per,Perak,i)\n",
    "    Per[i] = wC"
   ]
  },
  {
   "cell_type": "code",
   "execution_count": null,
   "metadata": {},
   "outputs": [],
   "source": [
    "%%time\n",
    "Perl = df[df.City == 'PERLIS']\n",
    "\n",
    "weatherConditions = ['cloudCover', 'windSpeed', 'humidity', 'temperatureMax']\n",
    "for i in weatherConditions:\n",
    "    wC = getWeatherData(Perl,Perlis,i)\n",
    "    Perl[i] = wC"
   ]
  },
  {
   "cell_type": "code",
   "execution_count": null,
   "metadata": {},
   "outputs": [],
   "source": [
    "%%time\n",
    "Pul = df[df.City == 'PULAU PINANG']\n",
    "\n",
    "weatherConditions = ['cloudCover', 'windSpeed', 'humidity', 'temperatureMax']\n",
    "for i in weatherConditions:\n",
    "    wC = getWeatherData(Pul,Pulau,i)\n",
    "    Pul[i] = wC"
   ]
  },
  {
   "cell_type": "code",
   "execution_count": null,
   "metadata": {},
   "outputs": [],
   "source": [
    "%%time\n",
    "Sab = df[df.City == 'SABAH']\n",
    "\n",
    "weatherConditions = ['cloudCover', 'windSpeed', 'humidity', 'temperatureMax']\n",
    "for i in weatherConditions:\n",
    "    wC = getWeatherData(Sab,Sabah,i)\n",
    "    Sab[i] = wC"
   ]
  },
  {
   "cell_type": "code",
   "execution_count": null,
   "metadata": {},
   "outputs": [],
   "source": [
    "%%time\n",
    "Sar = df[df.City == 'SARAWAK']\n",
    "\n",
    "weatherConditions = ['cloudCover', 'windSpeed', 'humidity', 'temperatureMax']\n",
    "for i in weatherConditions:\n",
    "    wC = getWeatherData(Sar,Sarawak,i)\n",
    "    Sar[i] = wC"
   ]
  },
  {
   "cell_type": "code",
   "execution_count": null,
   "metadata": {},
   "outputs": [],
   "source": [
    "%%time\n",
    "Selan = df[df.City == 'SELANGOR']\n",
    "\n",
    "weatherConditions = ['cloudCover', 'windSpeed', 'humidity', 'temperatureMax']\n",
    "for i in weatherConditions:\n",
    "    wC = getWeatherData(Selan,Selangor,i)\n",
    "    Selan[i] = wC\n"
   ]
  },
  {
   "cell_type": "code",
   "execution_count": null,
   "metadata": {},
   "outputs": [],
   "source": [
    "mdf = pd.concat([J,Kel,N,Pah,Per,Perl,Pul,Sab,Sar,Selan], axis = 0)"
   ]
  },
  {
   "cell_type": "code",
   "execution_count": null,
   "metadata": {},
   "outputs": [],
   "source": [
    "mdf.info()"
   ]
  },
  {
   "cell_type": "code",
   "execution_count": null,
   "metadata": {},
   "outputs": [],
   "source": [
    "mdf.head()"
   ]
  },
  {
   "cell_type": "code",
   "execution_count": null,
   "metadata": {
    "scrolled": true
   },
   "outputs": [],
   "source": [
    "wb.get_topics()"
   ]
  },
  {
   "cell_type": "code",
   "execution_count": null,
   "metadata": {},
   "outputs": [],
   "source": [
    "indicators = {'NY.GDP.PCAP.CD'}"
   ]
  },
  {
   "cell_type": "code",
   "execution_count": null,
   "metadata": {},
   "outputs": [],
   "source": [
    "print(wb.get_series('NY.GDP.PCAP.CD', date = '1993', country='MYS'))\n",
    "print(wb.get_series('NY.GDP.PCAP.CD', date = '1994', country='MYS'))\n",
    "print(wb.get_series('NY.GDP.PCAP.CD', date = '1995', country='MYS'))\n",
    "print(wb.get_series('NY.GDP.PCAP.CD', date = '1996', country='MYS'))\n",
    "print(wb.get_series('NY.GDP.PCAP.CD', date = '1997', country='MYS'))\n",
    "print(wb.get_series('NY.GDP.PCAP.CD', date = '1998', country='MYS'))\n",
    "print(wb.get_series('NY.GDP.PCAP.CD', date = '1999', country='MYS'))\n",
    "print(wb.get_series('NY.GDP.PCAP.CD', date = '2000', country='MYS'))\n",
    "print(wb.get_series('NY.GDP.PCAP.CD', date = '2001', country='MYS'))\n",
    "print(wb.get_series('NY.GDP.PCAP.CD', date = '2002', country='MYS'))\n",
    "print(wb.get_series('NY.GDP.PCAP.CD', date = '2003', country='MYS'))\n",
    "print(wb.get_series('NY.GDP.PCAP.CD', date = '2004', country='MYS'))\n",
    "print(wb.get_series('NY.GDP.PCAP.CD', date = '2005', country='MYS'))\n",
    "print(wb.get_series('NY.GDP.PCAP.CD', date = '2006', country='MYS'))\n",
    "print(wb.get_series('NY.GDP.PCAP.CD', date = '2007', country='MYS'))\n",
    "print(wb.get_series('NY.GDP.PCAP.CD', date = '2008', country='MYS'))\n",
    "print(wb.get_series('NY.GDP.PCAP.CD', date = '2009', country='MYS'))\n",
    "print(wb.get_series('NY.GDP.PCAP.CD', date = '2010', country='MYS'))"
   ]
  },
  {
   "cell_type": "code",
   "execution_count": null,
   "metadata": {},
   "outputs": [],
   "source": [
    "gdp = [0] * 1944\n",
    "mdf['GDP'] = gdp"
   ]
  },
  {
   "cell_type": "code",
   "execution_count": null,
   "metadata": {},
   "outputs": [],
   "source": [
    "mdf"
   ]
  },
  {
   "cell_type": "code",
   "execution_count": null,
   "metadata": {},
   "outputs": [],
   "source": [
    "def addGDP(gdp,yr,df):\n",
    "    for i in list(range(len(df))):\n",
    "        if df['year'][i] == yr:\n",
    "            df['GDP'][i] = gdp\n",
    "    return df"
   ]
  },
  {
   "cell_type": "code",
   "execution_count": null,
   "metadata": {},
   "outputs": [],
   "source": [
    "%%time\n",
    "mdf = addGDP(3433.143378,1993,mdf)\n",
    "mdf = addGDP(3728.0929,1994,mdf)\n",
    "mdf = addGDP(4329.687902,1995,mdf)\n",
    "mdf = addGDP(4798.594228,1996,mdf)\n",
    "mdf = addGDP(4637.865016,1997,mdf)\n",
    "mdf = addGDP(3263.345371,1998,mdf)\n",
    "mdf = addGDP(3492.69258,1999,mdf)\n",
    "mdf = addGDP(4043.662051,2000,mdf)\n",
    "mdf = addGDP(3913.428726,2001,mdf)\n",
    "mdf = addGDP(4165.715233,2002,mdf)\n",
    "mdf = addGDP(4461.847687,2003,mdf)\n",
    "mdf = addGDP(4952.223422,2004,mdf)\n",
    "mdf = addGDP(5587.02565,2005,mdf)\n",
    "mdf = addGDP(6209.114104,2006,mdf)\n",
    "mdf = addGDP(7243.455987,2007,mdf)\n",
    "mdf = addGDP(8474.575822,2008,mdf)\n",
    "mdf = addGDP(7292.493044,2009,mdf)\n",
    "mdf = addGDP(9040.566251,2010,mdf)"
   ]
  },
  {
   "cell_type": "code",
   "execution_count": null,
   "metadata": {},
   "outputs": [],
   "source": [
    "mdf.head()\n",
    "mdf.GDP.unique()\n"
   ]
  },
  {
   "cell_type": "code",
   "execution_count": null,
   "metadata": {},
   "outputs": [],
   "source": [
    "pops = [19484898,19977500,20487607,21017613,21562793,22114654,22661298,23194257,23709119,24208391,24698819,25190652,25690611,26201961,26720370,27236006,27735040,28208035]"
   ]
  },
  {
   "cell_type": "code",
   "execution_count": null,
   "metadata": {},
   "outputs": [],
   "source": [
    "len(pops)"
   ]
  },
  {
   "cell_type": "code",
   "execution_count": null,
   "metadata": {},
   "outputs": [],
   "source": [
    "def addPOP(pop,yr,df):\n",
    "    for i in list(range(len(df))):\n",
    "        if df['year'][i] == yr:\n",
    "            df['population'][i] = pop\n",
    "    return mdf\n",
    "  "
   ]
  },
  {
   "cell_type": "code",
   "execution_count": null,
   "metadata": {},
   "outputs": [],
   "source": [
    "population = [0] * 1944\n",
    "mdf['population'] = population"
   ]
  },
  {
   "cell_type": "code",
   "execution_count": null,
   "metadata": {},
   "outputs": [],
   "source": [
    "mdf.head()"
   ]
  },
  {
   "cell_type": "code",
   "execution_count": null,
   "metadata": {},
   "outputs": [],
   "source": [
    "years = [1993, 1994, 1995, 1996, 1997, 1998, 1999, 2000, 2001, 2002, 2003,\n",
    "       2004, 2005, 2006, 2007, 2008, 2009, 2010]"
   ]
  },
  {
   "cell_type": "code",
   "execution_count": null,
   "metadata": {},
   "outputs": [],
   "source": [
    "%%time\n",
    "for i in range(len(years)):\n",
    "    mdf = addPOP(pops[i],years[i],mdf)"
   ]
  },
  {
   "cell_type": "code",
   "execution_count": null,
   "metadata": {},
   "outputs": [],
   "source": [
    "mdf"
   ]
  },
  {
   "cell_type": "code",
   "execution_count": null,
   "metadata": {},
   "outputs": [],
   "source": [
    "mdf.info()"
   ]
  },
  {
   "cell_type": "code",
   "execution_count": null,
   "metadata": {},
   "outputs": [],
   "source": [
    "%%time\n",
    "#filling all null values with the average of that feature for that month based on observable data\n",
    "\n",
    "\n",
    "mdf.cloudCover = mdf[['City', 'month', 'cloudCover']].groupby(['City','month']).transform(lambda x: x.fillna(x.mean()))  \n",
    "mdf.windSpeed =  mdf[['City', 'month', 'windSpeed']].groupby(['City','month']).transform(lambda x: x.fillna(x.mean()))\n",
    "mdf.humidity =  mdf[['City', 'month', 'humidity']].groupby(['City','month']).transform(lambda x: x.fillna(x.mean()))\n",
    "mdf.temperatureMax =  mdf[['City', 'month', 'temperatureMax']].groupby(['City','month']).transform(lambda x: x.fillna(x.mean()))\n"
   ]
  },
  {
   "cell_type": "code",
   "execution_count": null,
   "metadata": {},
   "outputs": [],
   "source": [
    "mdf.head()"
   ]
  },
  {
   "cell_type": "code",
   "execution_count": null,
   "metadata": {},
   "outputs": [],
   "source": [
    "mdf.info()"
   ]
  },
  {
   "cell_type": "code",
   "execution_count": 65,
   "metadata": {},
   "outputs": [
    {
     "data": {
      "text/html": [
       "<div>\n",
       "<style scoped>\n",
       "    .dataframe tbody tr th:only-of-type {\n",
       "        vertical-align: middle;\n",
       "    }\n",
       "\n",
       "    .dataframe tbody tr th {\n",
       "        vertical-align: top;\n",
       "    }\n",
       "\n",
       "    .dataframe thead th {\n",
       "        text-align: right;\n",
       "    }\n",
       "</style>\n",
       "<table border=\"1\" class=\"dataframe\">\n",
       "  <thead>\n",
       "    <tr style=\"text-align: right;\">\n",
       "      <th></th>\n",
       "      <th>City</th>\n",
       "      <th>cloudCover</th>\n",
       "      <th>windSpeed</th>\n",
       "      <th>humidity</th>\n",
       "      <th>temperatureMax</th>\n",
       "      <th>GDP</th>\n",
       "      <th>population</th>\n",
       "      <th>time</th>\n",
       "      <th>Count</th>\n",
       "    </tr>\n",
       "  </thead>\n",
       "  <tbody>\n",
       "    <tr>\n",
       "      <th>0</th>\n",
       "      <td>JOHOR</td>\n",
       "      <td>0.830000</td>\n",
       "      <td>6.910000</td>\n",
       "      <td>0.870000</td>\n",
       "      <td>85.700000</td>\n",
       "      <td>3433</td>\n",
       "      <td>19484898</td>\n",
       "      <td>1993-01-01</td>\n",
       "      <td>41</td>\n",
       "    </tr>\n",
       "    <tr>\n",
       "      <th>420</th>\n",
       "      <td>NEGERI SEMBILAN</td>\n",
       "      <td>0.750000</td>\n",
       "      <td>3.357500</td>\n",
       "      <td>0.857500</td>\n",
       "      <td>86.805000</td>\n",
       "      <td>3433</td>\n",
       "      <td>19484898</td>\n",
       "      <td>1993-01-01</td>\n",
       "      <td>16</td>\n",
       "    </tr>\n",
       "    <tr>\n",
       "      <th>636</th>\n",
       "      <td>PAHANG</td>\n",
       "      <td>0.780000</td>\n",
       "      <td>8.810000</td>\n",
       "      <td>0.877500</td>\n",
       "      <td>84.310000</td>\n",
       "      <td>3433</td>\n",
       "      <td>19484898</td>\n",
       "      <td>1993-01-01</td>\n",
       "      <td>58</td>\n",
       "    </tr>\n",
       "    <tr>\n",
       "      <th>1044</th>\n",
       "      <td>PERLIS</td>\n",
       "      <td>0.707143</td>\n",
       "      <td>4.170000</td>\n",
       "      <td>0.740000</td>\n",
       "      <td>89.034286</td>\n",
       "      <td>3433</td>\n",
       "      <td>19484898</td>\n",
       "      <td>1993-01-01</td>\n",
       "      <td>0</td>\n",
       "    </tr>\n",
       "    <tr>\n",
       "      <th>216</th>\n",
       "      <td>KELANTAN</td>\n",
       "      <td>0.880000</td>\n",
       "      <td>12.050000</td>\n",
       "      <td>0.760000</td>\n",
       "      <td>83.050000</td>\n",
       "      <td>3433</td>\n",
       "      <td>19484898</td>\n",
       "      <td>1993-01-01</td>\n",
       "      <td>9</td>\n",
       "    </tr>\n",
       "    <tr>\n",
       "      <th>217</th>\n",
       "      <td>KELANTAN</td>\n",
       "      <td>0.870000</td>\n",
       "      <td>7.518333</td>\n",
       "      <td>0.797500</td>\n",
       "      <td>84.355833</td>\n",
       "      <td>3433</td>\n",
       "      <td>19484898</td>\n",
       "      <td>1993-02-01</td>\n",
       "      <td>6</td>\n",
       "    </tr>\n",
       "    <tr>\n",
       "      <th>1045</th>\n",
       "      <td>PERLIS</td>\n",
       "      <td>0.599091</td>\n",
       "      <td>3.228182</td>\n",
       "      <td>0.699091</td>\n",
       "      <td>91.540909</td>\n",
       "      <td>3433</td>\n",
       "      <td>19484898</td>\n",
       "      <td>1993-02-01</td>\n",
       "      <td>0</td>\n",
       "    </tr>\n",
       "    <tr>\n",
       "      <th>637</th>\n",
       "      <td>PAHANG</td>\n",
       "      <td>0.858462</td>\n",
       "      <td>5.445385</td>\n",
       "      <td>0.844167</td>\n",
       "      <td>85.805000</td>\n",
       "      <td>3433</td>\n",
       "      <td>19484898</td>\n",
       "      <td>1993-02-01</td>\n",
       "      <td>54</td>\n",
       "    </tr>\n",
       "    <tr>\n",
       "      <th>1</th>\n",
       "      <td>JOHOR</td>\n",
       "      <td>0.816250</td>\n",
       "      <td>8.870000</td>\n",
       "      <td>0.790000</td>\n",
       "      <td>85.860000</td>\n",
       "      <td>3433</td>\n",
       "      <td>19484898</td>\n",
       "      <td>1993-02-01</td>\n",
       "      <td>52</td>\n",
       "    </tr>\n",
       "    <tr>\n",
       "      <th>421</th>\n",
       "      <td>NEGERI SEMBILAN</td>\n",
       "      <td>0.772500</td>\n",
       "      <td>3.885000</td>\n",
       "      <td>0.827500</td>\n",
       "      <td>85.010000</td>\n",
       "      <td>3433</td>\n",
       "      <td>19484898</td>\n",
       "      <td>1993-02-01</td>\n",
       "      <td>1</td>\n",
       "    </tr>\n",
       "    <tr>\n",
       "      <th>1046</th>\n",
       "      <td>PERLIS</td>\n",
       "      <td>0.571000</td>\n",
       "      <td>2.549000</td>\n",
       "      <td>0.719000</td>\n",
       "      <td>95.107000</td>\n",
       "      <td>3433</td>\n",
       "      <td>19484898</td>\n",
       "      <td>1993-03-01</td>\n",
       "      <td>0</td>\n",
       "    </tr>\n",
       "    <tr>\n",
       "      <th>638</th>\n",
       "      <td>PAHANG</td>\n",
       "      <td>0.821667</td>\n",
       "      <td>4.740000</td>\n",
       "      <td>0.817500</td>\n",
       "      <td>89.264167</td>\n",
       "      <td>3433</td>\n",
       "      <td>19484898</td>\n",
       "      <td>1993-03-01</td>\n",
       "      <td>28</td>\n",
       "    </tr>\n",
       "    <tr>\n",
       "      <th>2</th>\n",
       "      <td>JOHOR</td>\n",
       "      <td>0.802143</td>\n",
       "      <td>3.960000</td>\n",
       "      <td>0.910000</td>\n",
       "      <td>83.350000</td>\n",
       "      <td>3433</td>\n",
       "      <td>19484898</td>\n",
       "      <td>1993-03-01</td>\n",
       "      <td>35</td>\n",
       "    </tr>\n",
       "    <tr>\n",
       "      <th>218</th>\n",
       "      <td>KELANTAN</td>\n",
       "      <td>0.848182</td>\n",
       "      <td>5.887000</td>\n",
       "      <td>0.790909</td>\n",
       "      <td>87.196364</td>\n",
       "      <td>3433</td>\n",
       "      <td>19484898</td>\n",
       "      <td>1993-03-01</td>\n",
       "      <td>2</td>\n",
       "    </tr>\n",
       "    <tr>\n",
       "      <th>422</th>\n",
       "      <td>NEGERI SEMBILAN</td>\n",
       "      <td>0.762500</td>\n",
       "      <td>3.387500</td>\n",
       "      <td>0.847500</td>\n",
       "      <td>86.357500</td>\n",
       "      <td>3433</td>\n",
       "      <td>19484898</td>\n",
       "      <td>1993-03-01</td>\n",
       "      <td>3</td>\n",
       "    </tr>\n",
       "    <tr>\n",
       "      <th>423</th>\n",
       "      <td>NEGERI SEMBILAN</td>\n",
       "      <td>0.750000</td>\n",
       "      <td>3.184000</td>\n",
       "      <td>0.846000</td>\n",
       "      <td>90.130000</td>\n",
       "      <td>3433</td>\n",
       "      <td>19484898</td>\n",
       "      <td>1993-04-01</td>\n",
       "      <td>3</td>\n",
       "    </tr>\n",
       "    <tr>\n",
       "      <th>1047</th>\n",
       "      <td>PERLIS</td>\n",
       "      <td>0.767143</td>\n",
       "      <td>2.970000</td>\n",
       "      <td>0.818571</td>\n",
       "      <td>92.578571</td>\n",
       "      <td>3433</td>\n",
       "      <td>19484898</td>\n",
       "      <td>1993-04-01</td>\n",
       "      <td>0</td>\n",
       "    </tr>\n",
       "    <tr>\n",
       "      <th>219</th>\n",
       "      <td>KELANTAN</td>\n",
       "      <td>0.828182</td>\n",
       "      <td>4.858182</td>\n",
       "      <td>0.798182</td>\n",
       "      <td>89.422727</td>\n",
       "      <td>3433</td>\n",
       "      <td>19484898</td>\n",
       "      <td>1993-04-01</td>\n",
       "      <td>2</td>\n",
       "    </tr>\n",
       "    <tr>\n",
       "      <th>3</th>\n",
       "      <td>JOHOR</td>\n",
       "      <td>0.801333</td>\n",
       "      <td>3.420000</td>\n",
       "      <td>0.840000</td>\n",
       "      <td>87.520000</td>\n",
       "      <td>3433</td>\n",
       "      <td>19484898</td>\n",
       "      <td>1993-04-01</td>\n",
       "      <td>45</td>\n",
       "    </tr>\n",
       "    <tr>\n",
       "      <th>639</th>\n",
       "      <td>PAHANG</td>\n",
       "      <td>0.808182</td>\n",
       "      <td>3.789167</td>\n",
       "      <td>0.835833</td>\n",
       "      <td>90.448333</td>\n",
       "      <td>3433</td>\n",
       "      <td>19484898</td>\n",
       "      <td>1993-04-01</td>\n",
       "      <td>20</td>\n",
       "    </tr>\n",
       "    <tr>\n",
       "      <th>424</th>\n",
       "      <td>NEGERI SEMBILAN</td>\n",
       "      <td>0.750000</td>\n",
       "      <td>3.464000</td>\n",
       "      <td>0.824000</td>\n",
       "      <td>89.780000</td>\n",
       "      <td>3433</td>\n",
       "      <td>19484898</td>\n",
       "      <td>1993-05-01</td>\n",
       "      <td>1</td>\n",
       "    </tr>\n",
       "    <tr>\n",
       "      <th>220</th>\n",
       "      <td>KELANTAN</td>\n",
       "      <td>0.830000</td>\n",
       "      <td>4.310000</td>\n",
       "      <td>0.810000</td>\n",
       "      <td>90.090000</td>\n",
       "      <td>3433</td>\n",
       "      <td>19484898</td>\n",
       "      <td>1993-05-01</td>\n",
       "      <td>1</td>\n",
       "    </tr>\n",
       "    <tr>\n",
       "      <th>4</th>\n",
       "      <td>JOHOR</td>\n",
       "      <td>0.880000</td>\n",
       "      <td>2.990000</td>\n",
       "      <td>0.860000</td>\n",
       "      <td>89.310000</td>\n",
       "      <td>3433</td>\n",
       "      <td>19484898</td>\n",
       "      <td>1993-05-01</td>\n",
       "      <td>55</td>\n",
       "    </tr>\n",
       "    <tr>\n",
       "      <th>1048</th>\n",
       "      <td>PERLIS</td>\n",
       "      <td>0.743333</td>\n",
       "      <td>2.961111</td>\n",
       "      <td>0.822222</td>\n",
       "      <td>91.878889</td>\n",
       "      <td>3433</td>\n",
       "      <td>19484898</td>\n",
       "      <td>1993-05-01</td>\n",
       "      <td>0</td>\n",
       "    </tr>\n",
       "    <tr>\n",
       "      <th>640</th>\n",
       "      <td>PAHANG</td>\n",
       "      <td>0.880000</td>\n",
       "      <td>3.130000</td>\n",
       "      <td>0.840000</td>\n",
       "      <td>90.430000</td>\n",
       "      <td>3433</td>\n",
       "      <td>19484898</td>\n",
       "      <td>1993-05-01</td>\n",
       "      <td>35</td>\n",
       "    </tr>\n",
       "    <tr>\n",
       "      <th>425</th>\n",
       "      <td>NEGERI SEMBILAN</td>\n",
       "      <td>0.750000</td>\n",
       "      <td>3.478000</td>\n",
       "      <td>0.828000</td>\n",
       "      <td>88.698000</td>\n",
       "      <td>3433</td>\n",
       "      <td>19484898</td>\n",
       "      <td>1993-06-01</td>\n",
       "      <td>2</td>\n",
       "    </tr>\n",
       "    <tr>\n",
       "      <th>641</th>\n",
       "      <td>PAHANG</td>\n",
       "      <td>0.820769</td>\n",
       "      <td>3.755385</td>\n",
       "      <td>0.822308</td>\n",
       "      <td>91.502308</td>\n",
       "      <td>3433</td>\n",
       "      <td>19484898</td>\n",
       "      <td>1993-06-01</td>\n",
       "      <td>36</td>\n",
       "    </tr>\n",
       "    <tr>\n",
       "      <th>221</th>\n",
       "      <td>KELANTAN</td>\n",
       "      <td>0.859231</td>\n",
       "      <td>4.393077</td>\n",
       "      <td>0.798462</td>\n",
       "      <td>89.643077</td>\n",
       "      <td>3433</td>\n",
       "      <td>19484898</td>\n",
       "      <td>1993-06-01</td>\n",
       "      <td>2</td>\n",
       "    </tr>\n",
       "    <tr>\n",
       "      <th>5</th>\n",
       "      <td>JOHOR</td>\n",
       "      <td>0.780667</td>\n",
       "      <td>2.970000</td>\n",
       "      <td>0.860000</td>\n",
       "      <td>87.520000</td>\n",
       "      <td>3433</td>\n",
       "      <td>19484898</td>\n",
       "      <td>1993-06-01</td>\n",
       "      <td>56</td>\n",
       "    </tr>\n",
       "    <tr>\n",
       "      <th>1049</th>\n",
       "      <td>PERLIS</td>\n",
       "      <td>0.709000</td>\n",
       "      <td>1.977000</td>\n",
       "      <td>0.813000</td>\n",
       "      <td>91.607000</td>\n",
       "      <td>3433</td>\n",
       "      <td>19484898</td>\n",
       "      <td>1993-06-01</td>\n",
       "      <td>0</td>\n",
       "    </tr>\n",
       "    <tr>\n",
       "      <th>...</th>\n",
       "      <td>...</td>\n",
       "      <td>...</td>\n",
       "      <td>...</td>\n",
       "      <td>...</td>\n",
       "      <td>...</td>\n",
       "      <td>...</td>\n",
       "      <td>...</td>\n",
       "      <td>...</td>\n",
       "      <td>...</td>\n",
       "    </tr>\n",
       "    <tr>\n",
       "      <th>849</th>\n",
       "      <td>PAHANG</td>\n",
       "      <td>0.780000</td>\n",
       "      <td>2.830000</td>\n",
       "      <td>0.830000</td>\n",
       "      <td>91.520000</td>\n",
       "      <td>9040</td>\n",
       "      <td>28208035</td>\n",
       "      <td>2010-10-01</td>\n",
       "      <td>148</td>\n",
       "    </tr>\n",
       "    <tr>\n",
       "      <th>417</th>\n",
       "      <td>KELANTAN</td>\n",
       "      <td>0.820000</td>\n",
       "      <td>4.750000</td>\n",
       "      <td>0.840000</td>\n",
       "      <td>87.760000</td>\n",
       "      <td>9040</td>\n",
       "      <td>28208035</td>\n",
       "      <td>2010-10-01</td>\n",
       "      <td>317</td>\n",
       "    </tr>\n",
       "    <tr>\n",
       "      <th>1257</th>\n",
       "      <td>PERLIS</td>\n",
       "      <td>0.780000</td>\n",
       "      <td>2.500000</td>\n",
       "      <td>0.870000</td>\n",
       "      <td>88.560000</td>\n",
       "      <td>9040</td>\n",
       "      <td>28208035</td>\n",
       "      <td>2010-10-01</td>\n",
       "      <td>30</td>\n",
       "    </tr>\n",
       "    <tr>\n",
       "      <th>213</th>\n",
       "      <td>JOHOR</td>\n",
       "      <td>0.760000</td>\n",
       "      <td>3.060000</td>\n",
       "      <td>0.780000</td>\n",
       "      <td>89.170000</td>\n",
       "      <td>9040</td>\n",
       "      <td>28208035</td>\n",
       "      <td>2010-10-01</td>\n",
       "      <td>551</td>\n",
       "    </tr>\n",
       "    <tr>\n",
       "      <th>1605</th>\n",
       "      <td>SABAH</td>\n",
       "      <td>0.760000</td>\n",
       "      <td>5.560000</td>\n",
       "      <td>0.850000</td>\n",
       "      <td>89.360000</td>\n",
       "      <td>9040</td>\n",
       "      <td>28208035</td>\n",
       "      <td>2010-10-01</td>\n",
       "      <td>118</td>\n",
       "    </tr>\n",
       "    <tr>\n",
       "      <th>1041</th>\n",
       "      <td>PERAK</td>\n",
       "      <td>0.740000</td>\n",
       "      <td>2.830000</td>\n",
       "      <td>0.890000</td>\n",
       "      <td>89.520000</td>\n",
       "      <td>9040</td>\n",
       "      <td>28208035</td>\n",
       "      <td>2010-10-01</td>\n",
       "      <td>179</td>\n",
       "    </tr>\n",
       "    <tr>\n",
       "      <th>633</th>\n",
       "      <td>NEGERI SEMBILAN</td>\n",
       "      <td>0.750000</td>\n",
       "      <td>2.590000</td>\n",
       "      <td>0.880000</td>\n",
       "      <td>89.050000</td>\n",
       "      <td>9040</td>\n",
       "      <td>28208035</td>\n",
       "      <td>2010-10-01</td>\n",
       "      <td>38</td>\n",
       "    </tr>\n",
       "    <tr>\n",
       "      <th>1749</th>\n",
       "      <td>SARAWAK</td>\n",
       "      <td>0.750000</td>\n",
       "      <td>3.260000</td>\n",
       "      <td>0.890000</td>\n",
       "      <td>89.850000</td>\n",
       "      <td>9040</td>\n",
       "      <td>28208035</td>\n",
       "      <td>2010-10-01</td>\n",
       "      <td>237</td>\n",
       "    </tr>\n",
       "    <tr>\n",
       "      <th>1941</th>\n",
       "      <td>SELANGOR</td>\n",
       "      <td>0.760000</td>\n",
       "      <td>2.300000</td>\n",
       "      <td>0.870000</td>\n",
       "      <td>89.420000</td>\n",
       "      <td>9040</td>\n",
       "      <td>28208035</td>\n",
       "      <td>2010-10-01</td>\n",
       "      <td>1119</td>\n",
       "    </tr>\n",
       "    <tr>\n",
       "      <th>1461</th>\n",
       "      <td>PULAU PINANG</td>\n",
       "      <td>0.770000</td>\n",
       "      <td>3.260000</td>\n",
       "      <td>0.860000</td>\n",
       "      <td>85.920000</td>\n",
       "      <td>9040</td>\n",
       "      <td>28208035</td>\n",
       "      <td>2010-10-01</td>\n",
       "      <td>202</td>\n",
       "    </tr>\n",
       "    <tr>\n",
       "      <th>214</th>\n",
       "      <td>JOHOR</td>\n",
       "      <td>0.740000</td>\n",
       "      <td>5.720000</td>\n",
       "      <td>0.760000</td>\n",
       "      <td>88.600000</td>\n",
       "      <td>9040</td>\n",
       "      <td>28208035</td>\n",
       "      <td>2010-11-01</td>\n",
       "      <td>305</td>\n",
       "    </tr>\n",
       "    <tr>\n",
       "      <th>1462</th>\n",
       "      <td>PULAU PINANG</td>\n",
       "      <td>0.840000</td>\n",
       "      <td>3.480000</td>\n",
       "      <td>0.920000</td>\n",
       "      <td>79.680000</td>\n",
       "      <td>9040</td>\n",
       "      <td>28208035</td>\n",
       "      <td>2010-11-01</td>\n",
       "      <td>169</td>\n",
       "    </tr>\n",
       "    <tr>\n",
       "      <th>418</th>\n",
       "      <td>KELANTAN</td>\n",
       "      <td>0.990000</td>\n",
       "      <td>10.070000</td>\n",
       "      <td>0.910000</td>\n",
       "      <td>78.760000</td>\n",
       "      <td>9040</td>\n",
       "      <td>28208035</td>\n",
       "      <td>2010-11-01</td>\n",
       "      <td>131</td>\n",
       "    </tr>\n",
       "    <tr>\n",
       "      <th>1942</th>\n",
       "      <td>SELANGOR</td>\n",
       "      <td>0.750000</td>\n",
       "      <td>7.780000</td>\n",
       "      <td>0.820000</td>\n",
       "      <td>87.620000</td>\n",
       "      <td>9040</td>\n",
       "      <td>28208035</td>\n",
       "      <td>2010-11-01</td>\n",
       "      <td>998</td>\n",
       "    </tr>\n",
       "    <tr>\n",
       "      <th>1258</th>\n",
       "      <td>PERLIS</td>\n",
       "      <td>1.000000</td>\n",
       "      <td>3.320000</td>\n",
       "      <td>0.950000</td>\n",
       "      <td>75.380000</td>\n",
       "      <td>9040</td>\n",
       "      <td>28208035</td>\n",
       "      <td>2010-11-01</td>\n",
       "      <td>16</td>\n",
       "    </tr>\n",
       "    <tr>\n",
       "      <th>850</th>\n",
       "      <td>PAHANG</td>\n",
       "      <td>0.760000</td>\n",
       "      <td>4.700000</td>\n",
       "      <td>0.810000</td>\n",
       "      <td>89.710000</td>\n",
       "      <td>9040</td>\n",
       "      <td>28208035</td>\n",
       "      <td>2010-11-01</td>\n",
       "      <td>177</td>\n",
       "    </tr>\n",
       "    <tr>\n",
       "      <th>1750</th>\n",
       "      <td>SARAWAK</td>\n",
       "      <td>0.750000</td>\n",
       "      <td>4.750000</td>\n",
       "      <td>0.880000</td>\n",
       "      <td>88.060000</td>\n",
       "      <td>9040</td>\n",
       "      <td>28208035</td>\n",
       "      <td>2010-11-01</td>\n",
       "      <td>194</td>\n",
       "    </tr>\n",
       "    <tr>\n",
       "      <th>634</th>\n",
       "      <td>NEGERI SEMBILAN</td>\n",
       "      <td>0.750000</td>\n",
       "      <td>6.330000</td>\n",
       "      <td>0.910000</td>\n",
       "      <td>85.440000</td>\n",
       "      <td>9040</td>\n",
       "      <td>28208035</td>\n",
       "      <td>2010-11-01</td>\n",
       "      <td>40</td>\n",
       "    </tr>\n",
       "    <tr>\n",
       "      <th>1606</th>\n",
       "      <td>SABAH</td>\n",
       "      <td>0.750000</td>\n",
       "      <td>3.650000</td>\n",
       "      <td>0.850000</td>\n",
       "      <td>89.360000</td>\n",
       "      <td>9040</td>\n",
       "      <td>28208035</td>\n",
       "      <td>2010-11-01</td>\n",
       "      <td>101</td>\n",
       "    </tr>\n",
       "    <tr>\n",
       "      <th>1042</th>\n",
       "      <td>PERAK</td>\n",
       "      <td>0.810000</td>\n",
       "      <td>3.310000</td>\n",
       "      <td>0.910000</td>\n",
       "      <td>84.120000</td>\n",
       "      <td>9040</td>\n",
       "      <td>28208035</td>\n",
       "      <td>2010-11-01</td>\n",
       "      <td>130</td>\n",
       "    </tr>\n",
       "    <tr>\n",
       "      <th>1259</th>\n",
       "      <td>PERLIS</td>\n",
       "      <td>0.830000</td>\n",
       "      <td>2.730000</td>\n",
       "      <td>0.860000</td>\n",
       "      <td>87.810000</td>\n",
       "      <td>9040</td>\n",
       "      <td>28208035</td>\n",
       "      <td>2010-12-01</td>\n",
       "      <td>13</td>\n",
       "    </tr>\n",
       "    <tr>\n",
       "      <th>635</th>\n",
       "      <td>NEGERI SEMBILAN</td>\n",
       "      <td>0.750000</td>\n",
       "      <td>3.020000</td>\n",
       "      <td>0.890000</td>\n",
       "      <td>87.260000</td>\n",
       "      <td>9040</td>\n",
       "      <td>28208035</td>\n",
       "      <td>2010-12-01</td>\n",
       "      <td>34</td>\n",
       "    </tr>\n",
       "    <tr>\n",
       "      <th>1463</th>\n",
       "      <td>PULAU PINANG</td>\n",
       "      <td>0.750000</td>\n",
       "      <td>3.140000</td>\n",
       "      <td>0.870000</td>\n",
       "      <td>88.690000</td>\n",
       "      <td>9040</td>\n",
       "      <td>28208035</td>\n",
       "      <td>2010-12-01</td>\n",
       "      <td>217</td>\n",
       "    </tr>\n",
       "    <tr>\n",
       "      <th>851</th>\n",
       "      <td>PAHANG</td>\n",
       "      <td>0.750000</td>\n",
       "      <td>2.350000</td>\n",
       "      <td>0.890000</td>\n",
       "      <td>89.710000</td>\n",
       "      <td>9040</td>\n",
       "      <td>28208035</td>\n",
       "      <td>2010-12-01</td>\n",
       "      <td>214</td>\n",
       "    </tr>\n",
       "    <tr>\n",
       "      <th>1607</th>\n",
       "      <td>SABAH</td>\n",
       "      <td>0.770000</td>\n",
       "      <td>3.980000</td>\n",
       "      <td>0.870000</td>\n",
       "      <td>89.360000</td>\n",
       "      <td>9040</td>\n",
       "      <td>28208035</td>\n",
       "      <td>2010-12-01</td>\n",
       "      <td>79</td>\n",
       "    </tr>\n",
       "    <tr>\n",
       "      <th>419</th>\n",
       "      <td>KELANTAN</td>\n",
       "      <td>0.950000</td>\n",
       "      <td>2.850000</td>\n",
       "      <td>0.920000</td>\n",
       "      <td>77.830000</td>\n",
       "      <td>9040</td>\n",
       "      <td>28208035</td>\n",
       "      <td>2010-12-01</td>\n",
       "      <td>135</td>\n",
       "    </tr>\n",
       "    <tr>\n",
       "      <th>1751</th>\n",
       "      <td>SARAWAK</td>\n",
       "      <td>0.800000</td>\n",
       "      <td>3.500000</td>\n",
       "      <td>0.890000</td>\n",
       "      <td>89.850000</td>\n",
       "      <td>9040</td>\n",
       "      <td>28208035</td>\n",
       "      <td>2010-12-01</td>\n",
       "      <td>175</td>\n",
       "    </tr>\n",
       "    <tr>\n",
       "      <th>215</th>\n",
       "      <td>JOHOR</td>\n",
       "      <td>0.740000</td>\n",
       "      <td>2.460000</td>\n",
       "      <td>0.800000</td>\n",
       "      <td>87.540000</td>\n",
       "      <td>9040</td>\n",
       "      <td>28208035</td>\n",
       "      <td>2010-12-01</td>\n",
       "      <td>275</td>\n",
       "    </tr>\n",
       "    <tr>\n",
       "      <th>1043</th>\n",
       "      <td>PERAK</td>\n",
       "      <td>0.750000</td>\n",
       "      <td>3.930000</td>\n",
       "      <td>0.900000</td>\n",
       "      <td>89.520000</td>\n",
       "      <td>9040</td>\n",
       "      <td>28208035</td>\n",
       "      <td>2010-12-01</td>\n",
       "      <td>168</td>\n",
       "    </tr>\n",
       "    <tr>\n",
       "      <th>1943</th>\n",
       "      <td>SELANGOR</td>\n",
       "      <td>0.770000</td>\n",
       "      <td>2.940000</td>\n",
       "      <td>0.880000</td>\n",
       "      <td>90.940000</td>\n",
       "      <td>9040</td>\n",
       "      <td>28208035</td>\n",
       "      <td>2010-12-01</td>\n",
       "      <td>1020</td>\n",
       "    </tr>\n",
       "  </tbody>\n",
       "</table>\n",
       "<p>1944 rows × 9 columns</p>\n",
       "</div>"
      ],
      "text/plain": [
       "                 City  cloudCover  windSpeed  humidity  temperatureMax   GDP  \\\n",
       "0               JOHOR    0.830000   6.910000  0.870000       85.700000  3433   \n",
       "420   NEGERI SEMBILAN    0.750000   3.357500  0.857500       86.805000  3433   \n",
       "636            PAHANG    0.780000   8.810000  0.877500       84.310000  3433   \n",
       "1044           PERLIS    0.707143   4.170000  0.740000       89.034286  3433   \n",
       "216          KELANTAN    0.880000  12.050000  0.760000       83.050000  3433   \n",
       "217          KELANTAN    0.870000   7.518333  0.797500       84.355833  3433   \n",
       "1045           PERLIS    0.599091   3.228182  0.699091       91.540909  3433   \n",
       "637            PAHANG    0.858462   5.445385  0.844167       85.805000  3433   \n",
       "1               JOHOR    0.816250   8.870000  0.790000       85.860000  3433   \n",
       "421   NEGERI SEMBILAN    0.772500   3.885000  0.827500       85.010000  3433   \n",
       "1046           PERLIS    0.571000   2.549000  0.719000       95.107000  3433   \n",
       "638            PAHANG    0.821667   4.740000  0.817500       89.264167  3433   \n",
       "2               JOHOR    0.802143   3.960000  0.910000       83.350000  3433   \n",
       "218          KELANTAN    0.848182   5.887000  0.790909       87.196364  3433   \n",
       "422   NEGERI SEMBILAN    0.762500   3.387500  0.847500       86.357500  3433   \n",
       "423   NEGERI SEMBILAN    0.750000   3.184000  0.846000       90.130000  3433   \n",
       "1047           PERLIS    0.767143   2.970000  0.818571       92.578571  3433   \n",
       "219          KELANTAN    0.828182   4.858182  0.798182       89.422727  3433   \n",
       "3               JOHOR    0.801333   3.420000  0.840000       87.520000  3433   \n",
       "639            PAHANG    0.808182   3.789167  0.835833       90.448333  3433   \n",
       "424   NEGERI SEMBILAN    0.750000   3.464000  0.824000       89.780000  3433   \n",
       "220          KELANTAN    0.830000   4.310000  0.810000       90.090000  3433   \n",
       "4               JOHOR    0.880000   2.990000  0.860000       89.310000  3433   \n",
       "1048           PERLIS    0.743333   2.961111  0.822222       91.878889  3433   \n",
       "640            PAHANG    0.880000   3.130000  0.840000       90.430000  3433   \n",
       "425   NEGERI SEMBILAN    0.750000   3.478000  0.828000       88.698000  3433   \n",
       "641            PAHANG    0.820769   3.755385  0.822308       91.502308  3433   \n",
       "221          KELANTAN    0.859231   4.393077  0.798462       89.643077  3433   \n",
       "5               JOHOR    0.780667   2.970000  0.860000       87.520000  3433   \n",
       "1049           PERLIS    0.709000   1.977000  0.813000       91.607000  3433   \n",
       "...               ...         ...        ...       ...             ...   ...   \n",
       "849            PAHANG    0.780000   2.830000  0.830000       91.520000  9040   \n",
       "417          KELANTAN    0.820000   4.750000  0.840000       87.760000  9040   \n",
       "1257           PERLIS    0.780000   2.500000  0.870000       88.560000  9040   \n",
       "213             JOHOR    0.760000   3.060000  0.780000       89.170000  9040   \n",
       "1605            SABAH    0.760000   5.560000  0.850000       89.360000  9040   \n",
       "1041            PERAK    0.740000   2.830000  0.890000       89.520000  9040   \n",
       "633   NEGERI SEMBILAN    0.750000   2.590000  0.880000       89.050000  9040   \n",
       "1749          SARAWAK    0.750000   3.260000  0.890000       89.850000  9040   \n",
       "1941         SELANGOR    0.760000   2.300000  0.870000       89.420000  9040   \n",
       "1461     PULAU PINANG    0.770000   3.260000  0.860000       85.920000  9040   \n",
       "214             JOHOR    0.740000   5.720000  0.760000       88.600000  9040   \n",
       "1462     PULAU PINANG    0.840000   3.480000  0.920000       79.680000  9040   \n",
       "418          KELANTAN    0.990000  10.070000  0.910000       78.760000  9040   \n",
       "1942         SELANGOR    0.750000   7.780000  0.820000       87.620000  9040   \n",
       "1258           PERLIS    1.000000   3.320000  0.950000       75.380000  9040   \n",
       "850            PAHANG    0.760000   4.700000  0.810000       89.710000  9040   \n",
       "1750          SARAWAK    0.750000   4.750000  0.880000       88.060000  9040   \n",
       "634   NEGERI SEMBILAN    0.750000   6.330000  0.910000       85.440000  9040   \n",
       "1606            SABAH    0.750000   3.650000  0.850000       89.360000  9040   \n",
       "1042            PERAK    0.810000   3.310000  0.910000       84.120000  9040   \n",
       "1259           PERLIS    0.830000   2.730000  0.860000       87.810000  9040   \n",
       "635   NEGERI SEMBILAN    0.750000   3.020000  0.890000       87.260000  9040   \n",
       "1463     PULAU PINANG    0.750000   3.140000  0.870000       88.690000  9040   \n",
       "851            PAHANG    0.750000   2.350000  0.890000       89.710000  9040   \n",
       "1607            SABAH    0.770000   3.980000  0.870000       89.360000  9040   \n",
       "419          KELANTAN    0.950000   2.850000  0.920000       77.830000  9040   \n",
       "1751          SARAWAK    0.800000   3.500000  0.890000       89.850000  9040   \n",
       "215             JOHOR    0.740000   2.460000  0.800000       87.540000  9040   \n",
       "1043            PERAK    0.750000   3.930000  0.900000       89.520000  9040   \n",
       "1943         SELANGOR    0.770000   2.940000  0.880000       90.940000  9040   \n",
       "\n",
       "      population       time  Count  \n",
       "0       19484898 1993-01-01     41  \n",
       "420     19484898 1993-01-01     16  \n",
       "636     19484898 1993-01-01     58  \n",
       "1044    19484898 1993-01-01      0  \n",
       "216     19484898 1993-01-01      9  \n",
       "217     19484898 1993-02-01      6  \n",
       "1045    19484898 1993-02-01      0  \n",
       "637     19484898 1993-02-01     54  \n",
       "1       19484898 1993-02-01     52  \n",
       "421     19484898 1993-02-01      1  \n",
       "1046    19484898 1993-03-01      0  \n",
       "638     19484898 1993-03-01     28  \n",
       "2       19484898 1993-03-01     35  \n",
       "218     19484898 1993-03-01      2  \n",
       "422     19484898 1993-03-01      3  \n",
       "423     19484898 1993-04-01      3  \n",
       "1047    19484898 1993-04-01      0  \n",
       "219     19484898 1993-04-01      2  \n",
       "3       19484898 1993-04-01     45  \n",
       "639     19484898 1993-04-01     20  \n",
       "424     19484898 1993-05-01      1  \n",
       "220     19484898 1993-05-01      1  \n",
       "4       19484898 1993-05-01     55  \n",
       "1048    19484898 1993-05-01      0  \n",
       "640     19484898 1993-05-01     35  \n",
       "425     19484898 1993-06-01      2  \n",
       "641     19484898 1993-06-01     36  \n",
       "221     19484898 1993-06-01      2  \n",
       "5       19484898 1993-06-01     56  \n",
       "1049    19484898 1993-06-01      0  \n",
       "...          ...        ...    ...  \n",
       "849     28208035 2010-10-01    148  \n",
       "417     28208035 2010-10-01    317  \n",
       "1257    28208035 2010-10-01     30  \n",
       "213     28208035 2010-10-01    551  \n",
       "1605    28208035 2010-10-01    118  \n",
       "1041    28208035 2010-10-01    179  \n",
       "633     28208035 2010-10-01     38  \n",
       "1749    28208035 2010-10-01    237  \n",
       "1941    28208035 2010-10-01   1119  \n",
       "1461    28208035 2010-10-01    202  \n",
       "214     28208035 2010-11-01    305  \n",
       "1462    28208035 2010-11-01    169  \n",
       "418     28208035 2010-11-01    131  \n",
       "1942    28208035 2010-11-01    998  \n",
       "1258    28208035 2010-11-01     16  \n",
       "850     28208035 2010-11-01    177  \n",
       "1750    28208035 2010-11-01    194  \n",
       "634     28208035 2010-11-01     40  \n",
       "1606    28208035 2010-11-01    101  \n",
       "1042    28208035 2010-11-01    130  \n",
       "1259    28208035 2010-12-01     13  \n",
       "635     28208035 2010-12-01     34  \n",
       "1463    28208035 2010-12-01    217  \n",
       "851     28208035 2010-12-01    214  \n",
       "1607    28208035 2010-12-01     79  \n",
       "419     28208035 2010-12-01    135  \n",
       "1751    28208035 2010-12-01    175  \n",
       "215     28208035 2010-12-01    275  \n",
       "1043    28208035 2010-12-01    168  \n",
       "1943    28208035 2010-12-01   1020  \n",
       "\n",
       "[1944 rows x 9 columns]"
      ]
     },
     "execution_count": 65,
     "metadata": {},
     "output_type": "execute_result"
    }
   ],
   "source": [
    "\n",
    "mdf #ahh she's beautiful "
   ]
  },
  {
   "cell_type": "code",
   "execution_count": 551,
   "metadata": {},
   "outputs": [],
   "source": [
    "# train_df = mdf[mdf.time < '2005-1-1']\n",
    "# test_df = mdf[mdf.time >= '2005-1-1']\n",
    "# train_df.set_index('time', inplace =True)\n",
    "# test_df.set_index('time', inplace=True)"
   ]
  },
  {
   "cell_type": "code",
   "execution_count": 66,
   "metadata": {},
   "outputs": [
    {
     "name": "stdout",
     "output_type": "stream",
     "text": [
      "<class 'pandas.core.frame.DataFrame'>\n",
      "Int64Index: 1944 entries, 0 to 1943\n",
      "Data columns (total 9 columns):\n",
      "City              1944 non-null object\n",
      "cloudCover        1944 non-null float64\n",
      "windSpeed         1944 non-null float64\n",
      "humidity          1944 non-null float64\n",
      "temperatureMax    1944 non-null float64\n",
      "GDP               1944 non-null int64\n",
      "population        1944 non-null int64\n",
      "time              1944 non-null datetime64[ns]\n",
      "Count             1944 non-null int64\n",
      "dtypes: datetime64[ns](1), float64(4), int64(3), object(1)\n",
      "memory usage: 151.9+ KB\n"
     ]
    }
   ],
   "source": [
    "mdf.info() ##label encode city"
   ]
  },
  {
   "cell_type": "code",
   "execution_count": 67,
   "metadata": {},
   "outputs": [
    {
     "data": {
      "image/png": "[encoded data removed]",
      "text/plain": [
       "<Figure size 1080x720 with 7 Axes>"
      ]
     },
     "metadata": {
      "needs_background": "light"
     },
     "output_type": "display_data"
    }
   ],
   "source": [
    "##Visualize continous features\n",
    "\n",
    "values = mdf.values\n",
    "groups = [1,2,3,4,5,6,8] ##specifying which columns to plot\n",
    "i = 1\n",
    "\n",
    "plt.figure(figsize=(15,10))\n",
    "for group in groups:\n",
    "    plt.subplot(len(groups), 1, i)\n",
    "    plt.plot(values[:, group])\n",
    "    plt.title(mdf.columns[group], y=0.5, loc='right')\n",
    "    i += 1\n",
    "plt.show()\n"
   ]
  },
  {
   "cell_type": "code",
   "execution_count": 347,
   "metadata": {},
   "outputs": [],
   "source": [
    "df = mdf.copy()\n"
   ]
  },
  {
   "cell_type": "code",
   "execution_count": 62,
   "metadata": {},
   "outputs": [
    {
     "data": {
      "text/plain": [
       "array(['1993-01-01', '1993-02-01', '1993-03-01', '1993-04-01',\n",
       "       '1993-05-01', '1993-06-01', '1993-07-01', '1993-08-01',\n",
       "       '1993-09-01', '1993-10-01', '1993-11-01', '1993-12-01',\n",
       "       '1994-01-01', '1994-02-01', '1994-03-01', '1994-04-01',\n",
       "       '1994-05-01', '1994-06-01', '1994-07-01', '1994-08-01',\n",
       "       '1994-09-01', '1994-10-01', '1994-11-01', '1994-12-01',\n",
       "       '1995-01-01', '1995-02-01', '1995-03-01', '1995-04-01',\n",
       "       '1995-05-01', '1995-06-01', '1995-07-01', '1995-08-01',\n",
       "       '1995-09-01', '1995-10-01', '1995-11-01', '1995-12-01',\n",
       "       '1996-01-01', '1996-02-01', '1996-03-01', '1996-04-01',\n",
       "       '1996-05-01', '1996-06-01', '1996-07-01', '1996-08-01',\n",
       "       '1996-09-01', '1996-10-01', '1996-11-01', '1996-12-01',\n",
       "       '1997-01-01', '1997-02-01', '1997-03-01', '1997-04-01',\n",
       "       '1997-05-01', '1997-06-01', '1997-07-01', '1997-08-01',\n",
       "       '1997-09-01', '1997-10-01', '1997-11-01', '1997-12-01',\n",
       "       '1998-01-01', '1998-02-01', '1998-03-01', '1998-04-01',\n",
       "       '1998-05-01', '1998-06-01', '1998-07-01', '1998-08-01',\n",
       "       '1998-09-01', '1998-10-01', '1998-11-01', '1998-12-01',\n",
       "       '1999-01-01', '1999-02-01', '1999-03-01', '1999-04-01',\n",
       "       '1999-05-01', '1999-06-01', '1999-07-01', '1999-08-01',\n",
       "       '1999-09-01', '1999-10-01', '1999-11-01', '1999-12-01',\n",
       "       '2000-01-01', '2000-02-01', '2000-03-01', '2000-04-01',\n",
       "       '2000-05-01', '2000-06-01', '2000-07-01', '2000-08-01',\n",
       "       '2000-09-01', '2000-10-01', '2000-11-01', '2000-12-01',\n",
       "       '2001-01-01', '2001-02-01', '2001-03-01', '2001-04-01',\n",
       "       '2001-05-01', '2001-06-01', '2001-07-01', '2001-08-01',\n",
       "       '2001-09-01', '2001-10-01', '2001-11-01', '2001-12-01',\n",
       "       '2002-01-01', '2002-02-01', '2002-03-01', '2002-04-01',\n",
       "       '2002-05-01', '2002-06-01', '2002-07-01', '2002-08-01',\n",
       "       '2002-09-01', '2002-10-01', '2002-11-01', '2002-12-01',\n",
       "       '2003-01-01', '2003-02-01', '2003-03-01', '2003-04-01',\n",
       "       '2003-05-01', '2003-06-01', '2003-07-01', '2003-08-01',\n",
       "       '2003-09-01', '2003-10-01', '2003-11-01', '2003-12-01',\n",
       "       '2004-01-01', '2004-02-01', '2004-03-01', '2004-04-01',\n",
       "       '2004-05-01', '2004-06-01', '2004-07-01', '2004-08-01',\n",
       "       '2004-09-01', '2004-10-01', '2004-11-01', '2004-12-01',\n",
       "       '2005-01-01', '2005-02-01', '2005-03-01', '2005-04-01',\n",
       "       '2005-05-01', '2005-06-01', '2005-07-01', '2005-08-01',\n",
       "       '2005-09-01', '2005-10-01', '2005-11-01', '2005-12-01',\n",
       "       '2006-01-01', '2006-02-01', '2006-03-01', '2006-04-01',\n",
       "       '2006-05-01', '2006-06-01', '2006-07-01', '2006-08-01',\n",
       "       '2006-09-01', '2006-10-01', '2006-11-01', '2006-12-01',\n",
       "       '2007-01-01', '2007-02-01', '2007-03-01', '2007-04-01',\n",
       "       '2007-05-01', '2007-06-01', '2007-07-01', '2007-08-01',\n",
       "       '2007-09-01', '2007-10-01', '2007-11-01', '2007-12-01',\n",
       "       '2008-01-01', '2008-02-01', '2008-03-01', '2008-04-01',\n",
       "       '2008-05-01', '2008-06-01', '2008-07-01', '2008-08-01',\n",
       "       '2008-09-01', '2008-10-01', '2008-11-01', '2008-12-01',\n",
       "       '2009-01-01', '2009-02-01', '2009-03-01', '2009-04-01',\n",
       "       '2009-05-01', '2009-06-01', '2009-07-01', '2009-08-01',\n",
       "       '2009-09-01', '2009-10-01', '2009-11-01', '2009-12-01',\n",
       "       '2010-01-01', '2010-02-01', '2010-03-01', '2010-04-01',\n",
       "       '2010-05-01', '2010-06-01', '2010-07-01', '2010-08-01',\n",
       "       '2010-09-01', '2010-10-01', '2010-11-01', '2010-12-01',\n",
       "       '1963-01-01', '1973-01-01', '1974-01-01', '1975-01-01',\n",
       "       '1976-01-01', '1977-01-01', '1978-01-01', '1979-01-01',\n",
       "       '1980-01-01', '1981-01-01', '1982-01-01', '1983-01-01',\n",
       "       '1984-01-01', '1985-01-01', '1986-01-01', '1987-01-01',\n",
       "       '1988-01-01', '1989-01-01', '1990-01-01', '1991-01-01',\n",
       "       '1992-01-01', '2011-01-01'], dtype=object)"
      ]
     },
     "execution_count": 62,
     "metadata": {},
     "output_type": "execute_result"
    }
   ],
   "source": [
    "dff = pd.read_csv('MY.38362002.csv')\n",
    "dff.PeriodStartDate.unique() #check for NA values or gaps. "
   ]
  },
  {
   "cell_type": "code",
   "execution_count": 63,
   "metadata": {},
   "outputs": [],
   "source": [
    "dff.PeriodStartDate = pd.to_datetime(dff['PeriodStartDate'])"
   ]
  },
  {
   "cell_type": "code",
   "execution_count": 64,
   "metadata": {},
   "outputs": [],
   "source": [
    "df['time'] = dff.PeriodStartDate #bring back time, remove month and year and set time as the index\n",
    "df.drop(['month', 'year'], inplace= True, axis = 1)\n",
    "df['Count'] = mdf.CountValue\n",
    "df.drop('CountValue', axis = 1, inplace = True)\n"
   ]
  },
  {
   "cell_type": "code",
   "execution_count": 348,
   "metadata": {},
   "outputs": [],
   "source": [
    "df.set_index('time', inplace = True)"
   ]
  },
  {
   "cell_type": "code",
   "execution_count": 349,
   "metadata": {},
   "outputs": [
    {
     "name": "stdout",
     "output_type": "stream",
     "text": [
      "<class 'pandas.core.frame.DataFrame'>\n",
      "DatetimeIndex: 216 entries, 1993-01-01 to 2010-12-01\n",
      "Data columns (total 9 columns):\n",
      "City              216 non-null object\n",
      "cloudCover        216 non-null float64\n",
      "windSpeed         216 non-null float64\n",
      "humidity          216 non-null float64\n",
      "temperatureMax    216 non-null float64\n",
      "GDP               216 non-null int64\n",
      "population        216 non-null int64\n",
      "Count             216 non-null int64\n",
      "count             216 non-null int64\n",
      "dtypes: float64(4), int64(4), object(1)\n",
      "memory usage: 16.9+ KB\n"
     ]
    }
   ],
   "source": [
    "Jo = df[df.City == 'JOHOR']\n",
    "Jo.info()"
   ]
  },
  {
   "cell_type": "code",
   "execution_count": 350,
   "metadata": {},
   "outputs": [
    {
     "data": {
      "text/plain": [
       "time\n",
       "1993-01-01    True\n",
       "1993-02-01    True\n",
       "1993-03-01    True\n",
       "1993-04-01    True\n",
       "1993-05-01    True\n",
       "1993-06-01    True\n",
       "1993-07-01    True\n",
       "1993-08-01    True\n",
       "1993-09-01    True\n",
       "1993-10-01    True\n",
       "1993-11-01    True\n",
       "1993-12-01    True\n",
       "1994-01-01    True\n",
       "1994-02-01    True\n",
       "1994-03-01    True\n",
       "1994-04-01    True\n",
       "1994-05-01    True\n",
       "1994-06-01    True\n",
       "1994-07-01    True\n",
       "1994-08-01    True\n",
       "1994-09-01    True\n",
       "1994-10-01    True\n",
       "1994-11-01    True\n",
       "1994-12-01    True\n",
       "1995-01-01    True\n",
       "1995-02-01    True\n",
       "1995-03-01    True\n",
       "1995-04-01    True\n",
       "1995-05-01    True\n",
       "1995-06-01    True\n",
       "              ... \n",
       "2008-07-01    True\n",
       "2008-08-01    True\n",
       "2008-09-01    True\n",
       "2008-10-01    True\n",
       "2008-11-01    True\n",
       "2008-12-01    True\n",
       "2009-01-01    True\n",
       "2009-02-01    True\n",
       "2009-03-01    True\n",
       "2009-04-01    True\n",
       "2009-05-01    True\n",
       "2009-06-01    True\n",
       "2009-07-01    True\n",
       "2009-08-01    True\n",
       "2009-09-01    True\n",
       "2009-10-01    True\n",
       "2009-11-01    True\n",
       "2009-12-01    True\n",
       "2010-01-01    True\n",
       "2010-02-01    True\n",
       "2010-03-01    True\n",
       "2010-04-01    True\n",
       "2010-05-01    True\n",
       "2010-06-01    True\n",
       "2010-07-01    True\n",
       "2010-08-01    True\n",
       "2010-09-01    True\n",
       "2010-10-01    True\n",
       "2010-11-01    True\n",
       "2010-12-01    True\n",
       "Length: 216, dtype: bool"
      ]
     },
     "execution_count": 350,
     "metadata": {},
     "output_type": "execute_result"
    }
   ],
   "source": [
    "Jo['Count'] == Jo['count']"
   ]
  },
  {
   "cell_type": "code",
   "execution_count": 351,
   "metadata": {},
   "outputs": [
    {
     "name": "stderr",
     "output_type": "stream",
     "text": [
      "/anaconda3/lib/python3.6/site-packages/pandas/core/frame.py:3940: SettingWithCopyWarning: \n",
      "A value is trying to be set on a copy of a slice from a DataFrame\n",
      "\n",
      "See the caveats in the documentation: http://pandas.pydata.org/pandas-docs/stable/indexing.html#indexing-view-versus-copy\n",
      "  errors=errors)\n"
     ]
    }
   ],
   "source": [
    "Jo.drop(['count'], axis = 1, inplace = True)"
   ]
  },
  {
   "cell_type": "code",
   "execution_count": 355,
   "metadata": {},
   "outputs": [
    {
     "data": {
      "image/png": "[encoded data removed]",
      "text/plain": [
       "<Figure size 432x288 with 1 Axes>"
      ]
     },
     "metadata": {
      "needs_background": "light"
     },
     "output_type": "display_data"
    }
   ],
   "source": [
    "\n",
    "lag_plot(Jo['Count'])\n",
    "plt.show()"
   ]
  },
  {
   "cell_type": "code",
   "execution_count": 366,
   "metadata": {},
   "outputs": [
    {
     "name": "stderr",
     "output_type": "stream",
     "text": [
      "/anaconda3/lib/python3.6/site-packages/ipykernel_launcher.py:4: UserWarning: Pandas doesn't allow columns to be created via a new attribute name - see https://pandas.pydata.org/pandas-docs/stable/indexing.html#attribute-access\n",
      "  after removing the cwd from sys.path.\n"
     ]
    },
    {
     "data": {
      "text/html": [
       "<div>\n",
       "<style scoped>\n",
       "    .dataframe tbody tr th:only-of-type {\n",
       "        vertical-align: middle;\n",
       "    }\n",
       "\n",
       "    .dataframe tbody tr th {\n",
       "        vertical-align: top;\n",
       "    }\n",
       "\n",
       "    .dataframe thead th {\n",
       "        text-align: right;\n",
       "    }\n",
       "</style>\n",
       "<table border=\"1\" class=\"dataframe\">\n",
       "  <thead>\n",
       "    <tr style=\"text-align: right;\">\n",
       "      <th></th>\n",
       "      <th>0</th>\n",
       "      <th>0</th>\n",
       "    </tr>\n",
       "  </thead>\n",
       "  <tbody>\n",
       "    <tr>\n",
       "      <th>0</th>\n",
       "      <td>1.000000</td>\n",
       "      <td>0.836595</td>\n",
       "    </tr>\n",
       "    <tr>\n",
       "      <th>0</th>\n",
       "      <td>0.836595</td>\n",
       "      <td>1.000000</td>\n",
       "    </tr>\n",
       "  </tbody>\n",
       "</table>\n",
       "</div>"
      ],
      "text/plain": [
       "          0         0\n",
       "0  1.000000  0.836595\n",
       "0  0.836595  1.000000"
      ]
     },
     "execution_count": 366,
     "metadata": {},
     "output_type": "execute_result"
    }
   ],
   "source": [
    "series = Jo.Count\n",
    "values = pd.DataFrame(series.values)\n",
    "dataf = pd.concat([values.shift(1), values], axis = 1)\n",
    "dataf.colums = ['t-1', 't+1']\n",
    "dataf.corr()"
   ]
  },
  {
   "cell_type": "code",
   "execution_count": 382,
   "metadata": {},
   "outputs": [],
   "source": [
    "\n",
    "X = dataf.values\n",
    "train, test = X[1:len(X)-108], X[len(X)-108:]\n",
    "train_X, train_y = train[:,0], train[:,1]\n",
    "test_X, test_y = test[:,0], test[:,1]\n",
    "\n"
   ]
  },
  {
   "cell_type": "code",
   "execution_count": 467,
   "metadata": {},
   "outputs": [
    {
     "name": "stdout",
     "output_type": "stream",
     "text": [
      "Lag: 12\n",
      "predicted=149.459831, expected=196.000000\n",
      "predicted=156.823151, expected=153.000000\n",
      "predicted=152.677695, expected=99.000000\n",
      "predicted=175.898095, expected=108.000000\n",
      "predicted=178.202618, expected=181.000000\n",
      "predicted=186.731838, expected=195.000000\n",
      "predicted=173.749543, expected=318.000000\n",
      "predicted=187.497189, expected=301.000000\n",
      "predicted=194.532369, expected=330.000000\n",
      "predicted=189.051911, expected=613.000000\n",
      "predicted=174.218072, expected=750.000000\n",
      "predicted=167.358494, expected=708.000000\n",
      "predicted=160.716269, expected=1046.000000\n",
      "predicted=159.398143, expected=549.000000\n",
      "predicted=158.611647, expected=276.000000\n",
      "predicted=163.369649, expected=133.000000\n",
      "predicted=163.581702, expected=183.000000\n",
      "predicted=162.941126, expected=142.000000\n",
      "predicted=165.821659, expected=159.000000\n",
      "predicted=170.502986, expected=134.000000\n",
      "predicted=170.659925, expected=108.000000\n",
      "predicted=168.078259, expected=191.000000\n",
      "predicted=164.756899, expected=165.000000\n",
      "predicted=162.474309, expected=163.000000\n",
      "predicted=159.812199, expected=175.000000\n",
      "predicted=158.465809, expected=148.000000\n",
      "predicted=158.519200, expected=168.000000\n",
      "predicted=158.378109, expected=202.000000\n",
      "predicted=157.854931, expected=233.000000\n",
      "predicted=158.614077, expected=330.000000\n",
      "predicted=160.216568, expected=336.000000\n",
      "predicted=161.263927, expected=268.000000\n",
      "predicted=161.092871, expected=304.000000\n",
      "predicted=160.544484, expected=303.000000\n",
      "predicted=159.813725, expected=248.000000\n",
      "predicted=158.779878, expected=341.000000\n",
      "predicted=157.861160, expected=289.000000\n",
      "predicted=157.373561, expected=196.000000\n",
      "predicted=156.938400, expected=145.000000\n",
      "predicted=156.490498, expected=88.000000\n",
      "predicted=156.400730, expected=107.000000\n",
      "predicted=156.801816, expected=169.000000\n",
      "predicted=157.248024, expected=221.000000\n",
      "predicted=157.450695, expected=305.000000\n",
      "predicted=157.500454, expected=374.000000\n",
      "predicted=157.431502, expected=396.000000\n",
      "predicted=157.174652, expected=304.000000\n",
      "predicted=156.839917, expected=380.000000\n",
      "predicted=156.552023, expected=375.000000\n",
      "predicted=156.277186, expected=352.000000\n",
      "predicted=155.977673, expected=282.000000\n",
      "predicted=155.776417, expected=146.000000\n",
      "predicted=155.763050, expected=192.000000\n",
      "predicted=155.850777, expected=200.000000\n",
      "predicted=155.935556, expected=199.000000\n",
      "predicted=156.007450, expected=230.000000\n",
      "predicted=156.054063, expected=185.000000\n",
      "predicted=156.037495, expected=162.000000\n",
      "predicted=155.963699, expected=209.000000\n",
      "predicted=155.870890, expected=194.000000\n",
      "predicted=155.759859, expected=367.000000\n",
      "predicted=155.620943, expected=292.000000\n",
      "predicted=155.491181, expected=202.000000\n",
      "predicted=155.414941, expected=222.000000\n",
      "predicted=155.388009, expected=332.000000\n",
      "predicted=155.385974, expected=270.000000\n",
      "predicted=155.400555, expected=360.000000\n",
      "predicted=155.424423, expected=392.000000\n",
      "predicted=155.439156, expected=196.000000\n",
      "predicted=155.436036, expected=268.000000\n",
      "predicted=155.420268, expected=227.000000\n",
      "predicted=155.391172, expected=235.000000\n",
      "predicted=155.343919, expected=275.000000\n",
      "predicted=155.287518, expected=249.000000\n",
      "predicted=155.238767, expected=179.000000\n",
      "predicted=155.204238, expected=338.000000\n",
      "predicted=155.181755, expected=335.000000\n",
      "predicted=155.170773, expected=287.000000\n",
      "predicted=155.170202, expected=433.000000\n",
      "predicted=155.174055, expected=405.000000\n",
      "predicted=155.176930, expected=296.000000\n",
      "predicted=155.177484, expected=361.000000\n",
      "predicted=155.173768, expected=327.000000\n",
      "predicted=155.162492, expected=423.000000\n",
      "predicted=155.144264, expected=270.000000\n",
      "predicted=155.123794, expected=244.000000\n",
      "predicted=155.104728, expected=204.000000\n",
      "predicted=155.088349, expected=321.000000\n",
      "predicted=155.075935, expected=227.000000\n",
      "predicted=155.068457, expected=190.000000\n",
      "predicted=155.064969, expected=198.000000\n",
      "predicted=155.063756, expected=173.000000\n",
      "predicted=155.063785, expected=150.000000\n",
      "predicted=155.063850, expected=165.000000\n",
      "predicted=155.062127, expected=163.000000\n",
      "predicted=155.057689, expected=223.000000\n",
      "predicted=155.051197, expected=245.000000\n",
      "predicted=155.043692, expected=238.000000\n",
      "predicted=155.035887, expected=274.000000\n",
      "predicted=155.028600, expected=246.000000\n",
      "predicted=155.022687, expected=292.000000\n",
      "predicted=155.018439, expected=523.000000\n",
      "predicted=155.015672, expected=466.000000\n",
      "predicted=155.014167, expected=366.000000\n",
      "predicted=155.013538, expected=625.000000\n",
      "predicted=155.013056, expected=551.000000\n",
      "predicted=155.012061, expected=305.000000\n",
      "predicted=155.010346, expected=275.000000\n",
      "Test MSE: 35071.636\n"
     ]
    },
    {
     "data": {
      "image/png": "[encoded data removed]",
      "text/plain": [
       "<Figure size 432x288 with 1 Axes>"
      ]
     },
     "metadata": {
      "needs_background": "light"
     },
     "output_type": "display_data"
    }
   ],
   "source": [
    "\n",
    "X = series.values\n",
    "train, test = X[1:len(X)-108], X[len(X)-108:]\n",
    "model = AR(train)\n",
    "\n",
    "model_fit = model.fit()\n",
    "print('Lag: %s' % model_fit.k_ar)\n",
    "# make predictions\n",
    "predictions = model_fit.predict(start=len(train), end=len(train)+len(test)-1, dynamic=False)\n",
    "for i in range(len(predictions)):\n",
    "    print('predicted=%f, expected=%f' % (predictions[i], test[i]))\n",
    "error = mean_squared_error(test, predictions)\n",
    "print('Test MSE: %.3f' % error)\n",
    "# plot results\n",
    "plt.plot(test, label = 'actual')\n",
    "plt.plot(predictions, color='red', label = 'prediction')\n",
    "plt.legend()\n",
    "plt.show()"
   ]
  },
  {
   "cell_type": "code",
   "execution_count": 575,
   "metadata": {},
   "outputs": [],
   "source": [
    "## make dummy variables out of Cities, start trees and ensemble methods for regression :)\n",
    "\n",
    "cityDummies = pd.get_dummies(mdf.City)\n",
    "newdf = pd.concat([mdf, cityDummies], axis = 1)"
   ]
  },
  {
   "cell_type": "code",
   "execution_count": 576,
   "metadata": {},
   "outputs": [
    {
     "data": {
      "text/html": [
       "<div>\n",
       "<style scoped>\n",
       "    .dataframe tbody tr th:only-of-type {\n",
       "        vertical-align: middle;\n",
       "    }\n",
       "\n",
       "    .dataframe tbody tr th {\n",
       "        vertical-align: top;\n",
       "    }\n",
       "\n",
       "    .dataframe thead th {\n",
       "        text-align: right;\n",
       "    }\n",
       "</style>\n",
       "<table border=\"1\" class=\"dataframe\">\n",
       "  <thead>\n",
       "    <tr style=\"text-align: right;\">\n",
       "      <th></th>\n",
       "      <th>City</th>\n",
       "      <th>cloudCover</th>\n",
       "      <th>windSpeed</th>\n",
       "      <th>humidity</th>\n",
       "      <th>temperatureMax</th>\n",
       "      <th>GDP</th>\n",
       "      <th>population</th>\n",
       "      <th>time</th>\n",
       "      <th>Count</th>\n",
       "      <th>count</th>\n",
       "      <th>JOHOR</th>\n",
       "      <th>KELANTAN</th>\n",
       "      <th>NEGERI SEMBILAN</th>\n",
       "      <th>PAHANG</th>\n",
       "      <th>PERAK</th>\n",
       "      <th>PERLIS</th>\n",
       "      <th>PULAU PINANG</th>\n",
       "      <th>SABAH</th>\n",
       "      <th>SARAWAK</th>\n",
       "      <th>SELANGOR</th>\n",
       "    </tr>\n",
       "  </thead>\n",
       "  <tbody>\n",
       "    <tr>\n",
       "      <th>0</th>\n",
       "      <td>JOHOR</td>\n",
       "      <td>0.830000</td>\n",
       "      <td>6.9100</td>\n",
       "      <td>0.8700</td>\n",
       "      <td>85.700000</td>\n",
       "      <td>3433</td>\n",
       "      <td>19484898</td>\n",
       "      <td>1993-01-01</td>\n",
       "      <td>41</td>\n",
       "      <td>41</td>\n",
       "      <td>1</td>\n",
       "      <td>0</td>\n",
       "      <td>0</td>\n",
       "      <td>0</td>\n",
       "      <td>0</td>\n",
       "      <td>0</td>\n",
       "      <td>0</td>\n",
       "      <td>0</td>\n",
       "      <td>0</td>\n",
       "      <td>0</td>\n",
       "    </tr>\n",
       "    <tr>\n",
       "      <th>420</th>\n",
       "      <td>NEGERI SEMBILAN</td>\n",
       "      <td>0.750000</td>\n",
       "      <td>3.3575</td>\n",
       "      <td>0.8575</td>\n",
       "      <td>86.805000</td>\n",
       "      <td>3433</td>\n",
       "      <td>19484898</td>\n",
       "      <td>1993-01-01</td>\n",
       "      <td>16</td>\n",
       "      <td>16</td>\n",
       "      <td>0</td>\n",
       "      <td>0</td>\n",
       "      <td>1</td>\n",
       "      <td>0</td>\n",
       "      <td>0</td>\n",
       "      <td>0</td>\n",
       "      <td>0</td>\n",
       "      <td>0</td>\n",
       "      <td>0</td>\n",
       "      <td>0</td>\n",
       "    </tr>\n",
       "    <tr>\n",
       "      <th>636</th>\n",
       "      <td>PAHANG</td>\n",
       "      <td>0.780000</td>\n",
       "      <td>8.8100</td>\n",
       "      <td>0.8775</td>\n",
       "      <td>84.310000</td>\n",
       "      <td>3433</td>\n",
       "      <td>19484898</td>\n",
       "      <td>1993-01-01</td>\n",
       "      <td>58</td>\n",
       "      <td>58</td>\n",
       "      <td>0</td>\n",
       "      <td>0</td>\n",
       "      <td>0</td>\n",
       "      <td>1</td>\n",
       "      <td>0</td>\n",
       "      <td>0</td>\n",
       "      <td>0</td>\n",
       "      <td>0</td>\n",
       "      <td>0</td>\n",
       "      <td>0</td>\n",
       "    </tr>\n",
       "    <tr>\n",
       "      <th>1044</th>\n",
       "      <td>PERLIS</td>\n",
       "      <td>0.707143</td>\n",
       "      <td>4.1700</td>\n",
       "      <td>0.7400</td>\n",
       "      <td>89.034286</td>\n",
       "      <td>3433</td>\n",
       "      <td>19484898</td>\n",
       "      <td>1993-01-01</td>\n",
       "      <td>0</td>\n",
       "      <td>0</td>\n",
       "      <td>0</td>\n",
       "      <td>0</td>\n",
       "      <td>0</td>\n",
       "      <td>0</td>\n",
       "      <td>0</td>\n",
       "      <td>1</td>\n",
       "      <td>0</td>\n",
       "      <td>0</td>\n",
       "      <td>0</td>\n",
       "      <td>0</td>\n",
       "    </tr>\n",
       "    <tr>\n",
       "      <th>216</th>\n",
       "      <td>KELANTAN</td>\n",
       "      <td>0.880000</td>\n",
       "      <td>12.0500</td>\n",
       "      <td>0.7600</td>\n",
       "      <td>83.050000</td>\n",
       "      <td>3433</td>\n",
       "      <td>19484898</td>\n",
       "      <td>1993-01-01</td>\n",
       "      <td>9</td>\n",
       "      <td>9</td>\n",
       "      <td>0</td>\n",
       "      <td>1</td>\n",
       "      <td>0</td>\n",
       "      <td>0</td>\n",
       "      <td>0</td>\n",
       "      <td>0</td>\n",
       "      <td>0</td>\n",
       "      <td>0</td>\n",
       "      <td>0</td>\n",
       "      <td>0</td>\n",
       "    </tr>\n",
       "  </tbody>\n",
       "</table>\n",
       "</div>"
      ],
      "text/plain": [
       "                 City  cloudCover  windSpeed  humidity  temperatureMax   GDP  \\\n",
       "0               JOHOR    0.830000     6.9100    0.8700       85.700000  3433   \n",
       "420   NEGERI SEMBILAN    0.750000     3.3575    0.8575       86.805000  3433   \n",
       "636            PAHANG    0.780000     8.8100    0.8775       84.310000  3433   \n",
       "1044           PERLIS    0.707143     4.1700    0.7400       89.034286  3433   \n",
       "216          KELANTAN    0.880000    12.0500    0.7600       83.050000  3433   \n",
       "\n",
       "      population       time  Count  count  JOHOR  KELANTAN  NEGERI SEMBILAN  \\\n",
       "0       19484898 1993-01-01     41     41      1         0                0   \n",
       "420     19484898 1993-01-01     16     16      0         0                1   \n",
       "636     19484898 1993-01-01     58     58      0         0                0   \n",
       "1044    19484898 1993-01-01      0      0      0         0                0   \n",
       "216     19484898 1993-01-01      9      9      0         1                0   \n",
       "\n",
       "      PAHANG  PERAK  PERLIS  PULAU PINANG  SABAH  SARAWAK  SELANGOR  \n",
       "0          0      0       0             0      0        0         0  \n",
       "420        0      0       0             0      0        0         0  \n",
       "636        1      0       0             0      0        0         0  \n",
       "1044       0      0       1             0      0        0         0  \n",
       "216        0      0       0             0      0        0         0  "
      ]
     },
     "execution_count": 576,
     "metadata": {},
     "output_type": "execute_result"
    }
   ],
   "source": [
    "newdf.head()"
   ]
  },
  {
   "cell_type": "code",
   "execution_count": 577,
   "metadata": {},
   "outputs": [],
   "source": [
    "newdf = newdf.drop(['count', 'City'], axis = 1)"
   ]
  },
  {
   "cell_type": "code",
   "execution_count": 578,
   "metadata": {},
   "outputs": [],
   "source": [
    "month = newdf.time.dt.month\n",
    "year = newdf.time.dt.year\n",
    "newdf.drop('time', axis = 1, inplace = True)\n",
    "newdf['month'] = month\n",
    "newdf['year'] = year"
   ]
  },
  {
   "cell_type": "code",
   "execution_count": 579,
   "metadata": {},
   "outputs": [
    {
     "data": {
      "text/html": [
       "<div>\n",
       "<style scoped>\n",
       "    .dataframe tbody tr th:only-of-type {\n",
       "        vertical-align: middle;\n",
       "    }\n",
       "\n",
       "    .dataframe tbody tr th {\n",
       "        vertical-align: top;\n",
       "    }\n",
       "\n",
       "    .dataframe thead th {\n",
       "        text-align: right;\n",
       "    }\n",
       "</style>\n",
       "<table border=\"1\" class=\"dataframe\">\n",
       "  <thead>\n",
       "    <tr style=\"text-align: right;\">\n",
       "      <th></th>\n",
       "      <th>cloudCover</th>\n",
       "      <th>windSpeed</th>\n",
       "      <th>humidity</th>\n",
       "      <th>temperatureMax</th>\n",
       "      <th>GDP</th>\n",
       "      <th>population</th>\n",
       "      <th>Count</th>\n",
       "      <th>JOHOR</th>\n",
       "      <th>KELANTAN</th>\n",
       "      <th>NEGERI SEMBILAN</th>\n",
       "      <th>PAHANG</th>\n",
       "      <th>PERAK</th>\n",
       "      <th>PERLIS</th>\n",
       "      <th>PULAU PINANG</th>\n",
       "      <th>SABAH</th>\n",
       "      <th>SARAWAK</th>\n",
       "      <th>SELANGOR</th>\n",
       "      <th>month</th>\n",
       "      <th>year</th>\n",
       "    </tr>\n",
       "  </thead>\n",
       "  <tbody>\n",
       "    <tr>\n",
       "      <th>0</th>\n",
       "      <td>0.830000</td>\n",
       "      <td>6.9100</td>\n",
       "      <td>0.8700</td>\n",
       "      <td>85.700000</td>\n",
       "      <td>3433</td>\n",
       "      <td>19484898</td>\n",
       "      <td>41</td>\n",
       "      <td>1</td>\n",
       "      <td>0</td>\n",
       "      <td>0</td>\n",
       "      <td>0</td>\n",
       "      <td>0</td>\n",
       "      <td>0</td>\n",
       "      <td>0</td>\n",
       "      <td>0</td>\n",
       "      <td>0</td>\n",
       "      <td>0</td>\n",
       "      <td>1</td>\n",
       "      <td>1993</td>\n",
       "    </tr>\n",
       "    <tr>\n",
       "      <th>420</th>\n",
       "      <td>0.750000</td>\n",
       "      <td>3.3575</td>\n",
       "      <td>0.8575</td>\n",
       "      <td>86.805000</td>\n",
       "      <td>3433</td>\n",
       "      <td>19484898</td>\n",
       "      <td>16</td>\n",
       "      <td>0</td>\n",
       "      <td>0</td>\n",
       "      <td>1</td>\n",
       "      <td>0</td>\n",
       "      <td>0</td>\n",
       "      <td>0</td>\n",
       "      <td>0</td>\n",
       "      <td>0</td>\n",
       "      <td>0</td>\n",
       "      <td>0</td>\n",
       "      <td>1</td>\n",
       "      <td>1993</td>\n",
       "    </tr>\n",
       "    <tr>\n",
       "      <th>636</th>\n",
       "      <td>0.780000</td>\n",
       "      <td>8.8100</td>\n",
       "      <td>0.8775</td>\n",
       "      <td>84.310000</td>\n",
       "      <td>3433</td>\n",
       "      <td>19484898</td>\n",
       "      <td>58</td>\n",
       "      <td>0</td>\n",
       "      <td>0</td>\n",
       "      <td>0</td>\n",
       "      <td>1</td>\n",
       "      <td>0</td>\n",
       "      <td>0</td>\n",
       "      <td>0</td>\n",
       "      <td>0</td>\n",
       "      <td>0</td>\n",
       "      <td>0</td>\n",
       "      <td>1</td>\n",
       "      <td>1993</td>\n",
       "    </tr>\n",
       "    <tr>\n",
       "      <th>1044</th>\n",
       "      <td>0.707143</td>\n",
       "      <td>4.1700</td>\n",
       "      <td>0.7400</td>\n",
       "      <td>89.034286</td>\n",
       "      <td>3433</td>\n",
       "      <td>19484898</td>\n",
       "      <td>0</td>\n",
       "      <td>0</td>\n",
       "      <td>0</td>\n",
       "      <td>0</td>\n",
       "      <td>0</td>\n",
       "      <td>0</td>\n",
       "      <td>1</td>\n",
       "      <td>0</td>\n",
       "      <td>0</td>\n",
       "      <td>0</td>\n",
       "      <td>0</td>\n",
       "      <td>1</td>\n",
       "      <td>1993</td>\n",
       "    </tr>\n",
       "    <tr>\n",
       "      <th>216</th>\n",
       "      <td>0.880000</td>\n",
       "      <td>12.0500</td>\n",
       "      <td>0.7600</td>\n",
       "      <td>83.050000</td>\n",
       "      <td>3433</td>\n",
       "      <td>19484898</td>\n",
       "      <td>9</td>\n",
       "      <td>0</td>\n",
       "      <td>1</td>\n",
       "      <td>0</td>\n",
       "      <td>0</td>\n",
       "      <td>0</td>\n",
       "      <td>0</td>\n",
       "      <td>0</td>\n",
       "      <td>0</td>\n",
       "      <td>0</td>\n",
       "      <td>0</td>\n",
       "      <td>1</td>\n",
       "      <td>1993</td>\n",
       "    </tr>\n",
       "  </tbody>\n",
       "</table>\n",
       "</div>"
      ],
      "text/plain": [
       "      cloudCover  windSpeed  humidity  temperatureMax   GDP  population  \\\n",
       "0       0.830000     6.9100    0.8700       85.700000  3433    19484898   \n",
       "420     0.750000     3.3575    0.8575       86.805000  3433    19484898   \n",
       "636     0.780000     8.8100    0.8775       84.310000  3433    19484898   \n",
       "1044    0.707143     4.1700    0.7400       89.034286  3433    19484898   \n",
       "216     0.880000    12.0500    0.7600       83.050000  3433    19484898   \n",
       "\n",
       "      Count  JOHOR  KELANTAN  NEGERI SEMBILAN  PAHANG  PERAK  PERLIS  \\\n",
       "0        41      1         0                0       0      0       0   \n",
       "420      16      0         0                1       0      0       0   \n",
       "636      58      0         0                0       1      0       0   \n",
       "1044      0      0         0                0       0      0       1   \n",
       "216       9      0         1                0       0      0       0   \n",
       "\n",
       "      PULAU PINANG  SABAH  SARAWAK  SELANGOR  month  year  \n",
       "0                0      0        0         0      1  1993  \n",
       "420              0      0        0         0      1  1993  \n",
       "636              0      0        0         0      1  1993  \n",
       "1044             0      0        0         0      1  1993  \n",
       "216              0      0        0         0      1  1993  "
      ]
     },
     "execution_count": 579,
     "metadata": {},
     "output_type": "execute_result"
    }
   ],
   "source": [
    "newdf.head()"
   ]
  },
  {
   "cell_type": "code",
   "execution_count": 580,
   "metadata": {},
   "outputs": [],
   "source": []
  },
  {
   "cell_type": "code",
   "execution_count": 581,
   "metadata": {},
   "outputs": [],
   "source": [
    "X = newdf.drop('Count', axis = 1)\n",
    "y = newdf.Count"
   ]
  },
  {
   "cell_type": "code",
   "execution_count": 582,
   "metadata": {},
   "outputs": [],
   "source": [
    "X_train, X_test, y_train, y_test = train_test_split(X,y,test_size = .20)"
   ]
  },
  {
   "cell_type": "code",
   "execution_count": 583,
   "metadata": {},
   "outputs": [
    {
     "data": {
      "text/plain": [
       "((1555, 18), (389, 18), (1555,), (389,))"
      ]
     },
     "execution_count": 583,
     "metadata": {},
     "output_type": "execute_result"
    }
   ],
   "source": [
    "X_train.shape, X_test.shape, y_train.shape, y_test.shape"
   ]
  },
  {
   "cell_type": "code",
   "execution_count": 584,
   "metadata": {},
   "outputs": [
    {
     "data": {
      "text/plain": [
       "DecisionTreeRegressor(criterion='mse', max_depth=None, max_features=None,\n",
       "           max_leaf_nodes=None, min_impurity_decrease=0.0,\n",
       "           min_impurity_split=None, min_samples_leaf=1,\n",
       "           min_samples_split=2, min_weight_fraction_leaf=0.0,\n",
       "           presort=False, random_state=None, splitter='best')"
      ]
     },
     "execution_count": 584,
     "metadata": {},
     "output_type": "execute_result"
    }
   ],
   "source": [
    "model = DecisionTreeRegressor()\n",
    "model.fit(X_train, y_train)\n"
   ]
  },
  {
   "cell_type": "code",
   "execution_count": 585,
   "metadata": {},
   "outputs": [
    {
     "name": "stdout",
     "output_type": "stream",
     "text": [
      "MSE:  17330.12853470437\n",
      "Variance Score 0.6998491486072096\n"
     ]
    }
   ],
   "source": [
    "y_pred = model.predict(X_test)\n",
    "print('MSE: ',mean_squared_error(y_test,y_pred))\n",
    "print('Variance Score', r2_score(y_test,y_pred))"
   ]
  },
  {
   "cell_type": "code",
   "execution_count": 586,
   "metadata": {},
   "outputs": [
    {
     "data": {
      "text/plain": [
       "[<matplotlib.lines.Line2D at 0x1c32d38b00>]"
      ]
     },
     "execution_count": 586,
     "metadata": {},
     "output_type": "execute_result"
    },
    {
     "data": {
      "image/png": "[encoded data removed]",
      "text/plain": [
       "<Figure size 432x288 with 1 Axes>"
      ]
     },
     "metadata": {
      "needs_background": "light"
     },
     "output_type": "display_data"
    }
   ],
   "source": [
    "\n",
    "plt.show\n",
    "plt.scatter(y_test,y_pred)\n",
    "plt.xlabel('Actual')\n",
    "plt.ylabel('Predicted')\n",
    "plt.plot([y_test.min(), y_test.max()], [y_test.min(), y_test.max()], 'k--')\n"
   ]
  },
  {
   "cell_type": "code",
   "execution_count": 595,
   "metadata": {},
   "outputs": [],
   "source": [
    "newnewdf = newdf[newdf.Count <= 800]"
   ]
  },
  {
   "cell_type": "code",
   "execution_count": 596,
   "metadata": {},
   "outputs": [
    {
     "name": "stdout",
     "output_type": "stream",
     "text": [
      "<class 'pandas.core.frame.DataFrame'>\n",
      "Int64Index: 1900 entries, 0 to 1043\n",
      "Data columns (total 19 columns):\n",
      "cloudCover         1900 non-null float64\n",
      "windSpeed          1900 non-null float64\n",
      "humidity           1900 non-null float64\n",
      "temperatureMax     1900 non-null float64\n",
      "GDP                1900 non-null int64\n",
      "population         1900 non-null int64\n",
      "Count              1900 non-null int64\n",
      "JOHOR              1900 non-null uint8\n",
      "KELANTAN           1900 non-null uint8\n",
      "NEGERI SEMBILAN    1900 non-null uint8\n",
      "PAHANG             1900 non-null uint8\n",
      "PERAK              1900 non-null uint8\n",
      "PERLIS             1900 non-null uint8\n",
      "PULAU PINANG       1900 non-null uint8\n",
      "SABAH              1900 non-null uint8\n",
      "SARAWAK            1900 non-null uint8\n",
      "SELANGOR           1900 non-null uint8\n",
      "month              1900 non-null int64\n",
      "year               1900 non-null int64\n",
      "dtypes: float64(4), int64(5), uint8(10)\n",
      "memory usage: 167.0 KB\n"
     ]
    }
   ],
   "source": [
    "newnewdf.info()"
   ]
  },
  {
   "cell_type": "code",
   "execution_count": 597,
   "metadata": {},
   "outputs": [],
   "source": [
    "X = newnewdf.drop('Count', axis = 1)\n",
    "y = newnewdf.Count"
   ]
  },
  {
   "cell_type": "code",
   "execution_count": 598,
   "metadata": {},
   "outputs": [],
   "source": [
    "X_train, X_test, y_train, y_test = train_test_split(X,y,test_size = .20)"
   ]
  },
  {
   "cell_type": "code",
   "execution_count": 599,
   "metadata": {},
   "outputs": [
    {
     "data": {
      "text/plain": [
       "((1520, 18), (380, 18), (1520,), (380,))"
      ]
     },
     "execution_count": 599,
     "metadata": {},
     "output_type": "execute_result"
    }
   ],
   "source": [
    "X_train.shape, X_test.shape, y_train.shape, y_test.shape"
   ]
  },
  {
   "cell_type": "code",
   "execution_count": 600,
   "metadata": {},
   "outputs": [
    {
     "data": {
      "text/plain": [
       "DecisionTreeRegressor(criterion='mse', max_depth=None, max_features=None,\n",
       "           max_leaf_nodes=None, min_impurity_decrease=0.0,\n",
       "           min_impurity_split=None, min_samples_leaf=1,\n",
       "           min_samples_split=2, min_weight_fraction_leaf=0.0,\n",
       "           presort=False, random_state=None, splitter='best')"
      ]
     },
     "execution_count": 600,
     "metadata": {},
     "output_type": "execute_result"
    }
   ],
   "source": [
    "model = DecisionTreeRegressor()\n",
    "model.fit(X_train, y_train)"
   ]
  },
  {
   "cell_type": "code",
   "execution_count": 601,
   "metadata": {},
   "outputs": [
    {
     "name": "stdout",
     "output_type": "stream",
     "text": [
      "MSE:  8375.46052631579\n",
      "Variance Score 0.5184126902594981\n"
     ]
    }
   ],
   "source": [
    "y_pred = model.predict(X_test)\n",
    "print('MSE: ',mean_squared_error(y_test,y_pred))\n",
    "print('Variance Score', r2_score(y_test,y_pred))"
   ]
  },
  {
   "cell_type": "code",
   "execution_count": 602,
   "metadata": {},
   "outputs": [
    {
     "data": {
      "text/plain": [
       "[<matplotlib.lines.Line2D at 0x1c32ff02b0>]"
      ]
     },
     "execution_count": 602,
     "metadata": {},
     "output_type": "execute_result"
    },
    {
     "data": {
      "image/png": "[encoded data removed]",
      "text/plain": [
       "<Figure size 432x288 with 1 Axes>"
      ]
     },
     "metadata": {
      "needs_background": "light"
     },
     "output_type": "display_data"
    }
   ],
   "source": [
    "\n",
    "plt.show\n",
    "plt.scatter(y_test,y_pred)\n",
    "plt.xlabel('Actual')\n",
    "plt.ylabel('Predicted')\n",
    "plt.plot([y_test.min(), y_test.max()], [y_test.min(), y_test.max()], 'k--')\n"
   ]
  },
  {
   "cell_type": "code",
   "execution_count": 620,
   "metadata": {},
   "outputs": [],
   "source": [
    "\n",
    "param_grid = {\n",
    "    'splitter': ['random', 'best'],\n",
    "    'max_features': [2,4,6,8,10,12],\n",
    "    'max_leaf_nodes': [None, 2, 4, 6, 8, 10],\n",
    "    'max_depth': [None, 2, 3, 4, 5, 6],\n",
    "    'min_samples_split': [2, 5, 10],\n",
    "    'min_samples_leaf': [1, 2, 3, 4, 5, 6],\n",
    "    \n",
    "    \n",
    "}"
   ]
  },
  {
   "cell_type": "code",
   "execution_count": 621,
   "metadata": {},
   "outputs": [
    {
     "name": "stdout",
     "output_type": "stream",
     "text": [
      "The best paramaters are  {'max_depth': None, 'max_features': 12, 'max_leaf_nodes': None, 'min_samples_leaf': 2, 'min_samples_split': 10, 'splitter': 'random'}\n",
      "CPU times: user 2min 41s, sys: 1.48 s, total: 2min 43s\n",
      "Wall time: 2min 46s\n"
     ]
    },
    {
     "name": "stderr",
     "output_type": "stream",
     "text": [
      "/anaconda3/lib/python3.6/site-packages/sklearn/model_selection/_search.py:841: DeprecationWarning: The default of the `iid` parameter will change from True to False in version 0.22 and will be removed in 0.24. This will change numeric results when test-set sizes are unequal.\n",
      "  DeprecationWarning)\n"
     ]
    }
   ],
   "source": [
    "%%time\n",
    "gs_tree = GridSearchCV(model, param_grid, cv = 3)\n",
    "gs_tree.fit(X_train, y_train)\n",
    "print('The best paramaters are ', gs_tree.best_params_)"
   ]
  },
  {
   "cell_type": "code",
   "execution_count": 622,
   "metadata": {},
   "outputs": [
    {
     "name": "stdout",
     "output_type": "stream",
     "text": [
      "MSE:  10474.587807395888\n",
      "Variance:  0.5017098248439722\n"
     ]
    },
    {
     "data": {
      "text/plain": [
       "[<matplotlib.lines.Line2D at 0x1c33240e80>]"
      ]
     },
     "execution_count": 622,
     "metadata": {},
     "output_type": "execute_result"
    },
    {
     "data": {
      "image/png": "[encoded data removed]",
      "text/plain": [
       "<Figure size 432x288 with 1 Axes>"
      ]
     },
     "metadata": {
      "needs_background": "light"
     },
     "output_type": "display_data"
    }
   ],
   "source": [
    "tree2 = DecisionTreeRegressor(max_depth= None, max_features=12, max_leaf_nodes=None, min_samples_leaf= 2, min_samples_split=10, splitter= 'random')\n",
    "                             \n",
    "tree2.fit(X_train,y_train)\n",
    "tree2predictions = tree2.predict(X_test)\n",
    "print('MSE: ',mean_squared_error(y_test,tree2predictions))\n",
    "print('Variance: ', r2_score(y_test,tree2predictions))\n",
    "plt.show\n",
    "plt.scatter(y_test,tree2predictions)\n",
    "plt.xlabel('Actual')\n",
    "plt.ylabel('Predicted')\n",
    "plt.plot([y_test.min(), y_test.max()], [y_test.min(), y_test.max()], 'k--')"
   ]
  },
  {
   "cell_type": "code",
   "execution_count": 623,
   "metadata": {},
   "outputs": [
    {
     "name": "stderr",
     "output_type": "stream",
     "text": [
      "/anaconda3/lib/python3.6/site-packages/sklearn/ensemble/forest.py:246: FutureWarning: The default value of n_estimators will change from 10 in version 0.20 to 100 in 0.22.\n",
      "  \"10 in version 0.20 to 100 in 0.22.\", FutureWarning)\n"
     ]
    },
    {
     "data": {
      "text/plain": [
       "RandomForestRegressor(bootstrap=True, criterion='mse', max_depth=None,\n",
       "           max_features='auto', max_leaf_nodes=None,\n",
       "           min_impurity_decrease=0.0, min_impurity_split=None,\n",
       "           min_samples_leaf=1, min_samples_split=2,\n",
       "           min_weight_fraction_leaf=0.0, n_estimators=10, n_jobs=None,\n",
       "           oob_score=False, random_state=None, verbose=0, warm_start=False)"
      ]
     },
     "execution_count": 623,
     "metadata": {},
     "output_type": "execute_result"
    }
   ],
   "source": [
    "\n",
    "rf = RandomForestRegressor()\n",
    "rf.fit(X_train, y_train)"
   ]
  },
  {
   "cell_type": "code",
   "execution_count": 624,
   "metadata": {},
   "outputs": [
    {
     "name": "stdout",
     "output_type": "stream",
     "text": [
      "MSE:  8527.772815789473\n",
      "Variance:  0.5943224222083276\n"
     ]
    }
   ],
   "source": [
    "predictions = rf.predict(X_test)\n",
    "print('MSE: ',mean_squared_error(y_test,predictions))\n",
    "print('Variance: ', r2_score(y_test,predictions))"
   ]
  },
  {
   "cell_type": "code",
   "execution_count": 625,
   "metadata": {},
   "outputs": [
    {
     "data": {
      "text/plain": [
       "[<matplotlib.lines.Line2D at 0x1c31b0fa58>]"
      ]
     },
     "execution_count": 625,
     "metadata": {},
     "output_type": "execute_result"
    },
    {
     "data": {
      "image/png": "[encoded data removed]",
      "text/plain": [
       "<Figure size 432x288 with 1 Axes>"
      ]
     },
     "metadata": {
      "needs_background": "light"
     },
     "output_type": "display_data"
    }
   ],
   "source": [
    "\n",
    "plt.show\n",
    "plt.scatter(y_test,predictions)\n",
    "plt.xlabel('Actual')\n",
    "plt.ylabel('Predicted')\n",
    "plt.plot([y_test.min(), y_test.max()], [y_test.min(), y_test.max()], 'k--')\n"
   ]
  },
  {
   "cell_type": "code",
   "execution_count": 626,
   "metadata": {},
   "outputs": [],
   "source": [
    "\n",
    "def plot_feature_importances(model, data_train):\n",
    "    n_features = data_train.shape[1]\n",
    "    plt.figure(figsize=(8,8))\n",
    "    plt.barh(range(n_features), model.feature_importances_, align='center') \n",
    "    plt.yticks(np.arange(n_features), data_train.columns.values) \n",
    "    plt.xlabel(\"Feature importance\")\n",
    "    plt.ylabel(\"Feature\")"
   ]
  },
  {
   "cell_type": "code",
   "execution_count": 627,
   "metadata": {},
   "outputs": [
    {
     "data": {
      "image/png": "[encoded data removed]",
      "text/plain": [
       "<Figure size 576x576 with 1 Axes>"
      ]
     },
     "metadata": {
      "needs_background": "light"
     },
     "output_type": "display_data"
    }
   ],
   "source": [
    "plot_feature_importances(rf, X_train)"
   ]
  },
  {
   "cell_type": "code",
   "execution_count": 636,
   "metadata": {},
   "outputs": [],
   "source": [
    "param_grid = {\n",
    "    'bootstrap' : [True, False],\n",
    "    'max_features': [2,4,12],\n",
    "    'max_depth': [None, 2,  4],\n",
    "    'min_samples_split': [2, 5, 10],\n",
    "    'min_samples_leaf': [1, 2, 3 ],\n",
    "    'n_jobs': [None, 2, 4]\n",
    "    \n",
    "    \n",
    "}"
   ]
  },
  {
   "cell_type": "code",
   "execution_count": 637,
   "metadata": {},
   "outputs": [
    {
     "name": "stdout",
     "output_type": "stream",
     "text": [
      "The best paramaters are  {'bootstrap': False, 'max_depth': None, 'max_features': 12, 'min_samples_leaf': 3, 'min_samples_split': 5, 'n_jobs': 4}\n",
      "CPU times: user 1min 8s, sys: 12.4 s, total: 1min 21s\n",
      "Wall time: 7min 58s\n"
     ]
    }
   ],
   "source": [
    "%%time\n",
    "gs_tree2 = GridSearchCV(rf, param_grid, cv = 3)\n",
    "gs_tree2.fit(X_train, y_train)\n",
    "print('The best paramaters are ', gs_tree2.best_params_)"
   ]
  },
  {
   "cell_type": "code",
   "execution_count": 638,
   "metadata": {},
   "outputs": [
    {
     "name": "stderr",
     "output_type": "stream",
     "text": [
      "/anaconda3/lib/python3.6/site-packages/sklearn/ensemble/forest.py:246: FutureWarning: The default value of n_estimators will change from 10 in version 0.20 to 100 in 0.22.\n",
      "  \"10 in version 0.20 to 100 in 0.22.\", FutureWarning)\n"
     ]
    },
    {
     "data": {
      "text/plain": [
       "RandomForestRegressor(bootstrap=False, criterion='mse', max_depth=None,\n",
       "           max_features=12, max_leaf_nodes=None, min_impurity_decrease=0.0,\n",
       "           min_impurity_split=None, min_samples_leaf=3,\n",
       "           min_samples_split=5, min_weight_fraction_leaf=0.0,\n",
       "           n_estimators=10, n_jobs=4, oob_score=False, random_state=None,\n",
       "           verbose=0, warm_start=False)"
      ]
     },
     "execution_count": 638,
     "metadata": {},
     "output_type": "execute_result"
    }
   ],
   "source": [
    "\n",
    "rf2= RandomForestRegressor(bootstrap=False, max_depth= None, max_features=12, min_samples_leaf=3, min_samples_split=5, n_jobs=4)\n",
    "rf2.fit(X_train, y_train)"
   ]
  },
  {
   "cell_type": "code",
   "execution_count": 639,
   "metadata": {},
   "outputs": [
    {
     "name": "stdout",
     "output_type": "stream",
     "text": [
      "MSE:  8255.931954074025\n",
      "Variance:  0.6072542561944929\n"
     ]
    }
   ],
   "source": [
    "preds = rf2.predict(X_test)\n",
    "print('MSE: ',mean_squared_error(y_test,preds))\n",
    "print('Variance: ', r2_score(y_test,preds))"
   ]
  },
  {
   "cell_type": "code",
   "execution_count": 640,
   "metadata": {},
   "outputs": [
    {
     "data": {
      "text/plain": [
       "[<matplotlib.lines.Line2D at 0x1c383e0ac8>]"
      ]
     },
     "execution_count": 640,
     "metadata": {},
     "output_type": "execute_result"
    },
    {
     "data": {
      "image/png": "[encoded data removed]",
      "text/plain": [
       "<Figure size 432x288 with 1 Axes>"
      ]
     },
     "metadata": {
      "needs_background": "light"
     },
     "output_type": "display_data"
    }
   ],
   "source": [
    "\n",
    "plt.show\n",
    "plt.scatter(y_test,preds)\n",
    "plt.xlabel('Actual')\n",
    "plt.ylabel('Predicted')\n",
    "plt.plot([y_test.min(), y_test.max()], [y_test.min(), y_test.max()], 'k--')\n"
   ]
  },
  {
   "cell_type": "code",
   "execution_count": 1,
   "metadata": {},
   "outputs": [
    {
     "ename": "NameError",
     "evalue": "name 'X_train' is not defined",
     "output_type": "error",
     "traceback": [
      "\u001b[0;31m---------------------------------------------------------------------------\u001b[0m",
      "\u001b[0;31mNameError\u001b[0m                                 Traceback (most recent call last)",
      "\u001b[0;32m<ipython-input-1-8942051b05e3>\u001b[0m in \u001b[0;36m<module>\u001b[0;34m\u001b[0m\n\u001b[1;32m      1\u001b[0m \u001b[0;32mimport\u001b[0m \u001b[0mxgboost\u001b[0m \u001b[0;32mas\u001b[0m \u001b[0mxgb\u001b[0m\u001b[0;34m\u001b[0m\u001b[0;34m\u001b[0m\u001b[0m\n\u001b[1;32m      2\u001b[0m \u001b[0mx_gb\u001b[0m \u001b[0;34m=\u001b[0m \u001b[0mxgb\u001b[0m\u001b[0;34m.\u001b[0m\u001b[0mXGBRegressor\u001b[0m\u001b[0;34m(\u001b[0m\u001b[0;34m)\u001b[0m\u001b[0;34m\u001b[0m\u001b[0;34m\u001b[0m\u001b[0m\n\u001b[0;32m----> 3\u001b[0;31m \u001b[0mx_gb\u001b[0m\u001b[0;34m.\u001b[0m\u001b[0mfit\u001b[0m\u001b[0;34m(\u001b[0m\u001b[0mX_train\u001b[0m\u001b[0;34m,\u001b[0m\u001b[0my_train\u001b[0m\u001b[0;34m)\u001b[0m\u001b[0;34m\u001b[0m\u001b[0;34m\u001b[0m\u001b[0m\n\u001b[0m\u001b[1;32m      4\u001b[0m \u001b[0mx_gbypred\u001b[0m \u001b[0;34m=\u001b[0m \u001b[0mx_gb\u001b[0m\u001b[0;34m.\u001b[0m\u001b[0mpredict\u001b[0m\u001b[0;34m(\u001b[0m\u001b[0mX_test\u001b[0m\u001b[0;34m)\u001b[0m\u001b[0;34m\u001b[0m\u001b[0;34m\u001b[0m\u001b[0m\n",
      "\u001b[0;31mNameError\u001b[0m: name 'X_train' is not defined"
     ]
    }
   ],
   "source": [
    "\n",
    "x_gb = xgb.XGBRegressor()\n",
    "x_gb.fit(X_train,y_train)\n",
    "x_gbypred = x_gb.predict(X_test)"
   ]
  },
  {
   "cell_type": "code",
   "execution_count": null,
   "metadata": {},
   "outputs": [],
   "source": []
  }
 ],
 "metadata": {
  "kernelspec": {
   "display_name": "learn-env",
   "language": "python",
   "name": "learn-env"
  },
  "language_info": {
   "codemirror_mode": {
    "name": "ipython",
    "version": 3
   },
   "file_extension": ".py",
   "mimetype": "text/x-python",
   "name": "python",
   "nbconvert_exporter": "python",
   "pygments_lexer": "ipython3",
   "version": "3.6.8"
  }
 },
 "nbformat": 4,
 "nbformat_minor": 2
}
